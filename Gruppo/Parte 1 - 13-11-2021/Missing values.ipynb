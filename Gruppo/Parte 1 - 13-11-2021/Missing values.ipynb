{
 "cells": [
  {
   "cell_type": "code",
   "execution_count": 138,
   "metadata": {},
   "outputs": [],
   "source": [
    "import pandas as pd\n",
    "import numpy as np"
   ]
  },
  {
   "cell_type": "code",
   "execution_count": 139,
   "metadata": {},
   "outputs": [],
   "source": [
    "match = pd.read_csv('output/match.csv')\n",
    "tournament = pd.read_csv('output/tournament.csv')\n",
    "player = pd.read_csv('output/players.csv')"
   ]
  },
  {
   "cell_type": "code",
   "execution_count": 140,
   "metadata": {},
   "outputs": [
    {
     "data": {
      "text/plain": [
       "match_num                  0\n",
       "winner_id                  0\n",
       "loser_id                   0\n",
       "score                    169\n",
       "best_of                    0\n",
       "round                      0\n",
       "minutes               104430\n",
       "w_ace                 103782\n",
       "w_df                  103782\n",
       "w_svpt                103782\n",
       "w_1stIn               103782\n",
       "w_1stWon              103782\n",
       "w_2ndWon              103782\n",
       "w_SvGms               103778\n",
       "w_bpSaved             103782\n",
       "w_bpFaced             103782\n",
       "l_ace                 103782\n",
       "l_df                  103782\n",
       "l_svpt                103782\n",
       "l_1stIn               103782\n",
       "l_1stWon              103782\n",
       "l_2ndWon              103782\n",
       "l_SvGms               103778\n",
       "l_bpSaved             103782\n",
       "l_bpFaced             103782\n",
       "winner_rank            19372\n",
       "winner_rank_points     19388\n",
       "loser_rank             35232\n",
       "loser_rank_points      35248\n",
       "tourney_pk                 0\n",
       "dtype: int64"
      ]
     },
     "execution_count": 140,
     "metadata": {},
     "output_type": "execute_result"
    }
   ],
   "source": [
    "match.isna().sum()"
   ]
  },
  {
   "cell_type": "code",
   "execution_count": null,
   "metadata": {},
   "outputs": [],
   "source": []
  },
  {
   "cell_type": "code",
   "execution_count": 141,
   "metadata": {},
   "outputs": [
    {
     "data": {
      "text/html": [
       "<div>\n",
       "<style scoped>\n",
       "    .dataframe tbody tr th:only-of-type {\n",
       "        vertical-align: middle;\n",
       "    }\n",
       "\n",
       "    .dataframe tbody tr th {\n",
       "        vertical-align: top;\n",
       "    }\n",
       "\n",
       "    .dataframe thead th {\n",
       "        text-align: right;\n",
       "    }\n",
       "</style>\n",
       "<table border=\"1\" class=\"dataframe\">\n",
       "  <thead>\n",
       "    <tr style=\"text-align: right;\">\n",
       "      <th></th>\n",
       "      <th>match_num</th>\n",
       "      <th>winner_id</th>\n",
       "      <th>loser_id</th>\n",
       "      <th>best_of</th>\n",
       "      <th>minutes</th>\n",
       "      <th>w_ace</th>\n",
       "      <th>w_df</th>\n",
       "      <th>w_svpt</th>\n",
       "      <th>w_1stIn</th>\n",
       "      <th>w_1stWon</th>\n",
       "      <th>...</th>\n",
       "      <th>l_1stIn</th>\n",
       "      <th>l_1stWon</th>\n",
       "      <th>l_2ndWon</th>\n",
       "      <th>l_SvGms</th>\n",
       "      <th>l_bpSaved</th>\n",
       "      <th>l_bpFaced</th>\n",
       "      <th>winner_rank</th>\n",
       "      <th>winner_rank_points</th>\n",
       "      <th>loser_rank</th>\n",
       "      <th>loser_rank_points</th>\n",
       "    </tr>\n",
       "  </thead>\n",
       "  <tbody>\n",
       "    <tr>\n",
       "      <td>count</td>\n",
       "      <td>185764.000000</td>\n",
       "      <td>185764.000000</td>\n",
       "      <td>185764.000000</td>\n",
       "      <td>185764.000000</td>\n",
       "      <td>81334.000000</td>\n",
       "      <td>81982.000000</td>\n",
       "      <td>81982.000000</td>\n",
       "      <td>81982.000000</td>\n",
       "      <td>81982.000000</td>\n",
       "      <td>81982.000000</td>\n",
       "      <td>...</td>\n",
       "      <td>81982.000000</td>\n",
       "      <td>81982.000000</td>\n",
       "      <td>81982.000000</td>\n",
       "      <td>81986.000000</td>\n",
       "      <td>81982.000000</td>\n",
       "      <td>81982.000000</td>\n",
       "      <td>166392.000000</td>\n",
       "      <td>166376.000000</td>\n",
       "      <td>150532.000000</td>\n",
       "      <td>150516.000000</td>\n",
       "    </tr>\n",
       "    <tr>\n",
       "      <td>mean</td>\n",
       "      <td>160.464175</td>\n",
       "      <td>180105.888068</td>\n",
       "      <td>181613.891987</td>\n",
       "      <td>3.034162</td>\n",
       "      <td>97.695269</td>\n",
       "      <td>4.823388</td>\n",
       "      <td>2.855907</td>\n",
       "      <td>71.297004</td>\n",
       "      <td>44.270901</td>\n",
       "      <td>32.142848</td>\n",
       "      <td>...</td>\n",
       "      <td>44.565112</td>\n",
       "      <td>28.046169</td>\n",
       "      <td>12.715657</td>\n",
       "      <td>10.942612</td>\n",
       "      <td>4.658608</td>\n",
       "      <td>8.864238</td>\n",
       "      <td>383.957919</td>\n",
       "      <td>470.958107</td>\n",
       "      <td>434.321320</td>\n",
       "      <td>356.754518</td>\n",
       "    </tr>\n",
       "    <tr>\n",
       "      <td>std</td>\n",
       "      <td>289.562750</td>\n",
       "      <td>46571.821798</td>\n",
       "      <td>46645.664816</td>\n",
       "      <td>0.259146</td>\n",
       "      <td>41.516997</td>\n",
       "      <td>4.389558</td>\n",
       "      <td>2.420502</td>\n",
       "      <td>25.530921</td>\n",
       "      <td>16.950740</td>\n",
       "      <td>11.414119</td>\n",
       "      <td>...</td>\n",
       "      <td>16.777904</td>\n",
       "      <td>12.274711</td>\n",
       "      <td>6.322835</td>\n",
       "      <td>3.499454</td>\n",
       "      <td>3.148033</td>\n",
       "      <td>3.967422</td>\n",
       "      <td>314.201072</td>\n",
       "      <td>1041.945639</td>\n",
       "      <td>355.975553</td>\n",
       "      <td>703.270209</td>\n",
       "    </tr>\n",
       "    <tr>\n",
       "      <td>min</td>\n",
       "      <td>1.000000</td>\n",
       "      <td>100644.000000</td>\n",
       "      <td>100644.000000</td>\n",
       "      <td>3.000000</td>\n",
       "      <td>0.000000</td>\n",
       "      <td>0.000000</td>\n",
       "      <td>0.000000</td>\n",
       "      <td>0.000000</td>\n",
       "      <td>0.000000</td>\n",
       "      <td>0.000000</td>\n",
       "      <td>...</td>\n",
       "      <td>0.000000</td>\n",
       "      <td>0.000000</td>\n",
       "      <td>0.000000</td>\n",
       "      <td>0.000000</td>\n",
       "      <td>0.000000</td>\n",
       "      <td>0.000000</td>\n",
       "      <td>1.000000</td>\n",
       "      <td>1.000000</td>\n",
       "      <td>1.000000</td>\n",
       "      <td>1.000000</td>\n",
       "    </tr>\n",
       "    <tr>\n",
       "      <td>25%</td>\n",
       "      <td>17.000000</td>\n",
       "      <td>122330.000000</td>\n",
       "      <td>124079.000000</td>\n",
       "      <td>3.000000</td>\n",
       "      <td>72.000000</td>\n",
       "      <td>2.000000</td>\n",
       "      <td>1.000000</td>\n",
       "      <td>53.000000</td>\n",
       "      <td>33.000000</td>\n",
       "      <td>24.000000</td>\n",
       "      <td>...</td>\n",
       "      <td>33.000000</td>\n",
       "      <td>19.000000</td>\n",
       "      <td>8.000000</td>\n",
       "      <td>9.000000</td>\n",
       "      <td>2.000000</td>\n",
       "      <td>6.000000</td>\n",
       "      <td>137.000000</td>\n",
       "      <td>49.000000</td>\n",
       "      <td>156.000000</td>\n",
       "      <td>35.000000</td>\n",
       "    </tr>\n",
       "    <tr>\n",
       "      <td>50%</td>\n",
       "      <td>130.000000</td>\n",
       "      <td>203526.000000</td>\n",
       "      <td>205815.000000</td>\n",
       "      <td>3.000000</td>\n",
       "      <td>91.000000</td>\n",
       "      <td>4.000000</td>\n",
       "      <td>2.000000</td>\n",
       "      <td>67.000000</td>\n",
       "      <td>42.000000</td>\n",
       "      <td>30.000000</td>\n",
       "      <td>...</td>\n",
       "      <td>42.000000</td>\n",
       "      <td>26.000000</td>\n",
       "      <td>12.000000</td>\n",
       "      <td>10.000000</td>\n",
       "      <td>4.000000</td>\n",
       "      <td>8.000000</td>\n",
       "      <td>298.000000</td>\n",
       "      <td>161.000000</td>\n",
       "      <td>325.000000</td>\n",
       "      <td>138.000000</td>\n",
       "    </tr>\n",
       "    <tr>\n",
       "      <td>75%</td>\n",
       "      <td>272.000000</td>\n",
       "      <td>214152.000000</td>\n",
       "      <td>214818.000000</td>\n",
       "      <td>3.000000</td>\n",
       "      <td>119.000000</td>\n",
       "      <td>7.000000</td>\n",
       "      <td>4.000000</td>\n",
       "      <td>87.000000</td>\n",
       "      <td>54.000000</td>\n",
       "      <td>38.000000</td>\n",
       "      <td>...</td>\n",
       "      <td>54.000000</td>\n",
       "      <td>35.000000</td>\n",
       "      <td>16.000000</td>\n",
       "      <td>13.000000</td>\n",
       "      <td>6.000000</td>\n",
       "      <td>11.000000</td>\n",
       "      <td>562.000000</td>\n",
       "      <td>439.000000</td>\n",
       "      <td>642.000000</td>\n",
       "      <td>378.000000</td>\n",
       "    </tr>\n",
       "    <tr>\n",
       "      <td>max</td>\n",
       "      <td>8312.000000</td>\n",
       "      <td>245099.000000</td>\n",
       "      <td>245099.000000</td>\n",
       "      <td>5.000000</td>\n",
       "      <td>4756.000000</td>\n",
       "      <td>75.000000</td>\n",
       "      <td>114.000000</td>\n",
       "      <td>1957.000000</td>\n",
       "      <td>1330.000000</td>\n",
       "      <td>836.000000</td>\n",
       "      <td>...</td>\n",
       "      <td>893.000000</td>\n",
       "      <td>532.000000</td>\n",
       "      <td>399.000000</td>\n",
       "      <td>50.000000</td>\n",
       "      <td>120.000000</td>\n",
       "      <td>190.000000</td>\n",
       "      <td>2220.000000</td>\n",
       "      <td>16950.000000</td>\n",
       "      <td>2257.000000</td>\n",
       "      <td>16950.000000</td>\n",
       "    </tr>\n",
       "  </tbody>\n",
       "</table>\n",
       "<p>8 rows × 27 columns</p>\n",
       "</div>"
      ],
      "text/plain": [
       "           match_num      winner_id       loser_id        best_of  \\\n",
       "count  185764.000000  185764.000000  185764.000000  185764.000000   \n",
       "mean      160.464175  180105.888068  181613.891987       3.034162   \n",
       "std       289.562750   46571.821798   46645.664816       0.259146   \n",
       "min         1.000000  100644.000000  100644.000000       3.000000   \n",
       "25%        17.000000  122330.000000  124079.000000       3.000000   \n",
       "50%       130.000000  203526.000000  205815.000000       3.000000   \n",
       "75%       272.000000  214152.000000  214818.000000       3.000000   \n",
       "max      8312.000000  245099.000000  245099.000000       5.000000   \n",
       "\n",
       "            minutes         w_ace          w_df        w_svpt       w_1stIn  \\\n",
       "count  81334.000000  81982.000000  81982.000000  81982.000000  81982.000000   \n",
       "mean      97.695269      4.823388      2.855907     71.297004     44.270901   \n",
       "std       41.516997      4.389558      2.420502     25.530921     16.950740   \n",
       "min        0.000000      0.000000      0.000000      0.000000      0.000000   \n",
       "25%       72.000000      2.000000      1.000000     53.000000     33.000000   \n",
       "50%       91.000000      4.000000      2.000000     67.000000     42.000000   \n",
       "75%      119.000000      7.000000      4.000000     87.000000     54.000000   \n",
       "max     4756.000000     75.000000    114.000000   1957.000000   1330.000000   \n",
       "\n",
       "           w_1stWon  ...       l_1stIn      l_1stWon      l_2ndWon  \\\n",
       "count  81982.000000  ...  81982.000000  81982.000000  81982.000000   \n",
       "mean      32.142848  ...     44.565112     28.046169     12.715657   \n",
       "std       11.414119  ...     16.777904     12.274711      6.322835   \n",
       "min        0.000000  ...      0.000000      0.000000      0.000000   \n",
       "25%       24.000000  ...     33.000000     19.000000      8.000000   \n",
       "50%       30.000000  ...     42.000000     26.000000     12.000000   \n",
       "75%       38.000000  ...     54.000000     35.000000     16.000000   \n",
       "max      836.000000  ...    893.000000    532.000000    399.000000   \n",
       "\n",
       "            l_SvGms     l_bpSaved     l_bpFaced    winner_rank  \\\n",
       "count  81986.000000  81982.000000  81982.000000  166392.000000   \n",
       "mean      10.942612      4.658608      8.864238     383.957919   \n",
       "std        3.499454      3.148033      3.967422     314.201072   \n",
       "min        0.000000      0.000000      0.000000       1.000000   \n",
       "25%        9.000000      2.000000      6.000000     137.000000   \n",
       "50%       10.000000      4.000000      8.000000     298.000000   \n",
       "75%       13.000000      6.000000     11.000000     562.000000   \n",
       "max       50.000000    120.000000    190.000000    2220.000000   \n",
       "\n",
       "       winner_rank_points     loser_rank  loser_rank_points  \n",
       "count       166376.000000  150532.000000      150516.000000  \n",
       "mean           470.958107     434.321320         356.754518  \n",
       "std           1041.945639     355.975553         703.270209  \n",
       "min              1.000000       1.000000           1.000000  \n",
       "25%             49.000000     156.000000          35.000000  \n",
       "50%            161.000000     325.000000         138.000000  \n",
       "75%            439.000000     642.000000         378.000000  \n",
       "max          16950.000000    2257.000000       16950.000000  \n",
       "\n",
       "[8 rows x 27 columns]"
      ]
     },
     "execution_count": 141,
     "metadata": {},
     "output_type": "execute_result"
    }
   ],
   "source": [
    "match.describe()"
   ]
  },
  {
   "cell_type": "code",
   "execution_count": 142,
   "metadata": {},
   "outputs": [],
   "source": [
    "match = match.dropna(subset=['w_ace'])"
   ]
  },
  {
   "cell_type": "code",
   "execution_count": null,
   "metadata": {},
   "outputs": [],
   "source": []
  },
  {
   "cell_type": "code",
   "execution_count": 143,
   "metadata": {},
   "outputs": [
    {
     "data": {
      "text/plain": [
       "match_num                0\n",
       "winner_id                0\n",
       "loser_id                 0\n",
       "score                    0\n",
       "best_of                  0\n",
       "round                    0\n",
       "minutes                801\n",
       "w_ace                    0\n",
       "w_df                     0\n",
       "w_svpt                   0\n",
       "w_1stIn                  0\n",
       "w_1stWon                 0\n",
       "w_2ndWon                 0\n",
       "w_SvGms                  0\n",
       "w_bpSaved                0\n",
       "w_bpFaced                0\n",
       "l_ace                    0\n",
       "l_df                     0\n",
       "l_svpt                   0\n",
       "l_1stIn                  0\n",
       "l_1stWon                 0\n",
       "l_2ndWon                 0\n",
       "l_SvGms                  0\n",
       "l_bpSaved                0\n",
       "l_bpFaced                0\n",
       "winner_rank            899\n",
       "winner_rank_points     913\n",
       "loser_rank            3123\n",
       "loser_rank_points     3138\n",
       "tourney_pk               0\n",
       "dtype: int64"
      ]
     },
     "execution_count": 143,
     "metadata": {},
     "output_type": "execute_result"
    }
   ],
   "source": [
    "match.isna().sum()"
   ]
  },
  {
   "cell_type": "code",
   "execution_count": 144,
   "metadata": {},
   "outputs": [],
   "source": [
    "match['winner_rank'] = match.winner_rank.fillna(int(np.mean(match.winner_rank)))\n",
    "match['winner_rank_points'] = match.winner_rank_points.fillna(int(np.mean(match.winner_rank_points)))\n",
    "match['loser_rank'] = match.loser_rank.fillna(int(np.mean(match.loser_rank)))\n",
    "match['loser_rank_points'] = match.loser_rank_points.fillna(int(np.mean(match.loser_rank_points)))\n",
    "\n",
    "match['minutes'] = match.groupby('tourney_pk')['minutes'].apply(lambda x: x.ffill().bfill())\n",
    "match = match.dropna(subset=['minutes'])\n",
    "\n",
    "match = match.astype({\"minutes\": int, \"w_ace\": int, \"w_df\": int, \"w_svpt\": int,\n",
    "                      \"w_1stIn\": int, \"w_1stWon\": int, \"w_2ndWon\": int, \"w_SvGms\": int,\n",
    "                      \"w_bpSaved\": int, \"w_bpFaced\": int, \"l_ace\": int, \"l_df\": int,\n",
    "                      \"l_svpt\": int, \"l_1stIn\": int, \"l_1stWon\": int, \"l_2ndWon\": int,\n",
    "                      \"l_SvGms\": int, \"l_bpSaved\": int, \"l_bpFaced\": int\n",
    "                    })"
   ]
  },
  {
   "cell_type": "code",
   "execution_count": 145,
   "metadata": {},
   "outputs": [
    {
     "data": {
      "text/plain": [
       "player_id           0\n",
       "country_id          0\n",
       "name                0\n",
       "sex                 0\n",
       "hand               33\n",
       "ht               9551\n",
       "year_of_birth       0\n",
       "dtype: int64"
      ]
     },
     "execution_count": 145,
     "metadata": {},
     "output_type": "execute_result"
    }
   ],
   "source": [
    "player.isna().sum()"
   ]
  },
  {
   "cell_type": "code",
   "execution_count": 146,
   "metadata": {},
   "outputs": [],
   "source": [
    "player['hand'] = player.hand.fillna(lambda x: np.mode(player.hand))\n",
    "player['ht'] = player.groupby('sex')['ht'].apply(lambda x: x.ffill().bfill())\n",
    "\n",
    "player = player.astype({\"ht\": int})"
   ]
  },
  {
   "cell_type": "code",
   "execution_count": null,
   "metadata": {},
   "outputs": [],
   "source": []
  },
  {
   "cell_type": "code",
   "execution_count": null,
   "metadata": {},
   "outputs": [],
   "source": []
  },
  {
   "cell_type": "code",
   "execution_count": 148,
   "metadata": {},
   "outputs": [
    {
     "data": {
      "text/plain": [
       "tourney_pk             0\n",
       "tourney_id             0\n",
       "date_id                0\n",
       "tourney_name           0\n",
       "surface               62\n",
       "draw_size              0\n",
       "tourney_level          0\n",
       "tourney_spectators     0\n",
       "tourney_revenue        0\n",
       "dtype: int64"
      ]
     },
     "execution_count": 148,
     "metadata": {},
     "output_type": "execute_result"
    }
   ],
   "source": [
    "tournament.isna().sum()"
   ]
  },
  {
   "cell_type": "code",
   "execution_count": 149,
   "metadata": {},
   "outputs": [
    {
     "data": {
      "text/plain": [
       "Hard      2599\n",
       "Clay      2052\n",
       "Grass      110\n",
       "Carpet      88\n",
       "Name: surface, dtype: int64"
      ]
     },
     "execution_count": 149,
     "metadata": {},
     "output_type": "execute_result"
    }
   ],
   "source": [
    "tournament.surface.value_counts()"
   ]
  },
  {
   "cell_type": "code",
   "execution_count": 150,
   "metadata": {},
   "outputs": [],
   "source": [
    "tournament['surface'] = tournament.groupby('tourney_name')['surface'].apply(lambda x: x.ffill().bfill())\n",
    "tournament['surface'] = tournament.surface.fillna('Hard')"
   ]
  },
  {
   "cell_type": "code",
   "execution_count": null,
   "metadata": {},
   "outputs": [],
   "source": []
  },
  {
   "cell_type": "code",
   "execution_count": null,
   "metadata": {},
   "outputs": [],
   "source": []
  },
  {
   "cell_type": "code",
   "execution_count": 155,
   "metadata": {},
   "outputs": [],
   "source": [
    "match.to_csv('output/match_noNull.csv', index=False)\n",
    "player.to_csv('output/players_noNull.csv', index=False)\n",
    "tournament.to_csv('output/tournament_noNull.csv', index=False)"
   ]
  },
  {
   "cell_type": "code",
   "execution_count": null,
   "metadata": {},
   "outputs": [],
   "source": []
  },
  {
   "cell_type": "code",
   "execution_count": null,
   "metadata": {},
   "outputs": [],
   "source": []
  },
  {
   "cell_type": "code",
   "execution_count": null,
   "metadata": {},
   "outputs": [],
   "source": []
  },
  {
   "cell_type": "code",
   "execution_count": null,
   "metadata": {},
   "outputs": [],
   "source": []
  }
 ],
 "metadata": {
  "kernelspec": {
   "display_name": "Python 3",
   "language": "python",
   "name": "python3"
  },
  "language_info": {
   "codemirror_mode": {
    "name": "ipython",
    "version": 3
   },
   "file_extension": ".py",
   "mimetype": "text/x-python",
   "name": "python",
   "nbconvert_exporter": "python",
   "pygments_lexer": "ipython3",
   "version": "3.7.4"
  }
 },
 "nbformat": 4,
 "nbformat_minor": 2
}
