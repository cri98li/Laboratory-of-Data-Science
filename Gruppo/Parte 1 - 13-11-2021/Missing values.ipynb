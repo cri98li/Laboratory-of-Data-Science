{
 "cells": [
  {
   "cell_type": "markdown",
   "metadata": {},
   "source": [
    "# Gestione dei missing values"
   ]
  },
  {
   "cell_type": "code",
   "execution_count": 42,
   "metadata": {},
   "outputs": [],
   "source": [
    "import pandas as pd\n",
    "import numpy as np\n",
    "import seaborn as sns\n",
    "import matplotlib.pyplot as plt"
   ]
  },
  {
   "cell_type": "code",
   "execution_count": 43,
   "metadata": {},
   "outputs": [],
   "source": [
    "match = pd.read_csv('output/match.csv')\n",
    "tournament = pd.read_csv('output/tournament.csv')\n",
    "player = pd.read_csv('output/players.csv')\n",
    "\n",
    "match_originale = match.copy()\n",
    "tournament_originale = tournament.copy()\n",
    "player_originale = player.copy()"
   ]
  },
  {
   "cell_type": "code",
   "execution_count": 44,
   "metadata": {},
   "outputs": [
    {
     "data": {
      "text/plain": [
       "match_num                  0\n",
       "winner_id                  0\n",
       "loser_id                   0\n",
       "score                    169\n",
       "best_of                    0\n",
       "round                      0\n",
       "minutes               104430\n",
       "w_ace                 103782\n",
       "w_df                  103782\n",
       "w_svpt                103782\n",
       "w_1stIn               103782\n",
       "w_1stWon              103782\n",
       "w_2ndWon              103782\n",
       "w_SvGms               103778\n",
       "w_bpSaved             103782\n",
       "w_bpFaced             103782\n",
       "l_ace                 103782\n",
       "l_df                  103782\n",
       "l_svpt                103782\n",
       "l_1stIn               103782\n",
       "l_1stWon              103782\n",
       "l_2ndWon              103782\n",
       "l_SvGms               103778\n",
       "l_bpSaved             103782\n",
       "l_bpFaced             103782\n",
       "winner_rank            19372\n",
       "winner_rank_points     19388\n",
       "loser_rank             35232\n",
       "loser_rank_points      35248\n",
       "tourney_pk                 0\n",
       "dtype: int64"
      ]
     },
     "execution_count": 44,
     "metadata": {},
     "output_type": "execute_result"
    }
   ],
   "source": [
    "match.isna().sum()"
   ]
  },
  {
   "cell_type": "code",
   "execution_count": null,
   "metadata": {},
   "outputs": [],
   "source": []
  },
  {
   "cell_type": "code",
   "execution_count": 45,
   "metadata": {},
   "outputs": [
    {
     "data": {
      "text/html": [
       "<div>\n",
       "<style scoped>\n",
       "    .dataframe tbody tr th:only-of-type {\n",
       "        vertical-align: middle;\n",
       "    }\n",
       "\n",
       "    .dataframe tbody tr th {\n",
       "        vertical-align: top;\n",
       "    }\n",
       "\n",
       "    .dataframe thead th {\n",
       "        text-align: right;\n",
       "    }\n",
       "</style>\n",
       "<table border=\"1\" class=\"dataframe\">\n",
       "  <thead>\n",
       "    <tr style=\"text-align: right;\">\n",
       "      <th></th>\n",
       "      <th>match_num</th>\n",
       "      <th>winner_id</th>\n",
       "      <th>loser_id</th>\n",
       "      <th>best_of</th>\n",
       "      <th>minutes</th>\n",
       "      <th>w_ace</th>\n",
       "      <th>w_df</th>\n",
       "      <th>w_svpt</th>\n",
       "      <th>w_1stIn</th>\n",
       "      <th>w_1stWon</th>\n",
       "      <th>...</th>\n",
       "      <th>l_1stIn</th>\n",
       "      <th>l_1stWon</th>\n",
       "      <th>l_2ndWon</th>\n",
       "      <th>l_SvGms</th>\n",
       "      <th>l_bpSaved</th>\n",
       "      <th>l_bpFaced</th>\n",
       "      <th>winner_rank</th>\n",
       "      <th>winner_rank_points</th>\n",
       "      <th>loser_rank</th>\n",
       "      <th>loser_rank_points</th>\n",
       "    </tr>\n",
       "  </thead>\n",
       "  <tbody>\n",
       "    <tr>\n",
       "      <th>count</th>\n",
       "      <td>185764.000000</td>\n",
       "      <td>185764.000000</td>\n",
       "      <td>185764.000000</td>\n",
       "      <td>185764.000000</td>\n",
       "      <td>81334.000000</td>\n",
       "      <td>81982.000000</td>\n",
       "      <td>81982.000000</td>\n",
       "      <td>81982.000000</td>\n",
       "      <td>81982.000000</td>\n",
       "      <td>81982.000000</td>\n",
       "      <td>...</td>\n",
       "      <td>81982.000000</td>\n",
       "      <td>81982.000000</td>\n",
       "      <td>81982.000000</td>\n",
       "      <td>81986.000000</td>\n",
       "      <td>81982.000000</td>\n",
       "      <td>81982.000000</td>\n",
       "      <td>166392.000000</td>\n",
       "      <td>166376.000000</td>\n",
       "      <td>150532.000000</td>\n",
       "      <td>150516.000000</td>\n",
       "    </tr>\n",
       "    <tr>\n",
       "      <th>mean</th>\n",
       "      <td>160.464175</td>\n",
       "      <td>180105.888068</td>\n",
       "      <td>181613.891987</td>\n",
       "      <td>3.034162</td>\n",
       "      <td>97.695269</td>\n",
       "      <td>4.823388</td>\n",
       "      <td>2.855907</td>\n",
       "      <td>71.297004</td>\n",
       "      <td>44.270901</td>\n",
       "      <td>32.142848</td>\n",
       "      <td>...</td>\n",
       "      <td>44.565112</td>\n",
       "      <td>28.046169</td>\n",
       "      <td>12.715657</td>\n",
       "      <td>10.942612</td>\n",
       "      <td>4.658608</td>\n",
       "      <td>8.864238</td>\n",
       "      <td>383.957919</td>\n",
       "      <td>470.958107</td>\n",
       "      <td>434.321320</td>\n",
       "      <td>356.754518</td>\n",
       "    </tr>\n",
       "    <tr>\n",
       "      <th>std</th>\n",
       "      <td>289.562750</td>\n",
       "      <td>46571.821798</td>\n",
       "      <td>46645.664816</td>\n",
       "      <td>0.259146</td>\n",
       "      <td>41.516997</td>\n",
       "      <td>4.389558</td>\n",
       "      <td>2.420502</td>\n",
       "      <td>25.530921</td>\n",
       "      <td>16.950740</td>\n",
       "      <td>11.414119</td>\n",
       "      <td>...</td>\n",
       "      <td>16.777904</td>\n",
       "      <td>12.274711</td>\n",
       "      <td>6.322835</td>\n",
       "      <td>3.499454</td>\n",
       "      <td>3.148033</td>\n",
       "      <td>3.967422</td>\n",
       "      <td>314.201072</td>\n",
       "      <td>1041.945639</td>\n",
       "      <td>355.975553</td>\n",
       "      <td>703.270209</td>\n",
       "    </tr>\n",
       "    <tr>\n",
       "      <th>min</th>\n",
       "      <td>1.000000</td>\n",
       "      <td>100644.000000</td>\n",
       "      <td>100644.000000</td>\n",
       "      <td>3.000000</td>\n",
       "      <td>0.000000</td>\n",
       "      <td>0.000000</td>\n",
       "      <td>0.000000</td>\n",
       "      <td>0.000000</td>\n",
       "      <td>0.000000</td>\n",
       "      <td>0.000000</td>\n",
       "      <td>...</td>\n",
       "      <td>0.000000</td>\n",
       "      <td>0.000000</td>\n",
       "      <td>0.000000</td>\n",
       "      <td>0.000000</td>\n",
       "      <td>0.000000</td>\n",
       "      <td>0.000000</td>\n",
       "      <td>1.000000</td>\n",
       "      <td>1.000000</td>\n",
       "      <td>1.000000</td>\n",
       "      <td>1.000000</td>\n",
       "    </tr>\n",
       "    <tr>\n",
       "      <th>25%</th>\n",
       "      <td>17.000000</td>\n",
       "      <td>122330.000000</td>\n",
       "      <td>124079.000000</td>\n",
       "      <td>3.000000</td>\n",
       "      <td>72.000000</td>\n",
       "      <td>2.000000</td>\n",
       "      <td>1.000000</td>\n",
       "      <td>53.000000</td>\n",
       "      <td>33.000000</td>\n",
       "      <td>24.000000</td>\n",
       "      <td>...</td>\n",
       "      <td>33.000000</td>\n",
       "      <td>19.000000</td>\n",
       "      <td>8.000000</td>\n",
       "      <td>9.000000</td>\n",
       "      <td>2.000000</td>\n",
       "      <td>6.000000</td>\n",
       "      <td>137.000000</td>\n",
       "      <td>49.000000</td>\n",
       "      <td>156.000000</td>\n",
       "      <td>35.000000</td>\n",
       "    </tr>\n",
       "    <tr>\n",
       "      <th>50%</th>\n",
       "      <td>130.000000</td>\n",
       "      <td>203526.000000</td>\n",
       "      <td>205815.000000</td>\n",
       "      <td>3.000000</td>\n",
       "      <td>91.000000</td>\n",
       "      <td>4.000000</td>\n",
       "      <td>2.000000</td>\n",
       "      <td>67.000000</td>\n",
       "      <td>42.000000</td>\n",
       "      <td>30.000000</td>\n",
       "      <td>...</td>\n",
       "      <td>42.000000</td>\n",
       "      <td>26.000000</td>\n",
       "      <td>12.000000</td>\n",
       "      <td>10.000000</td>\n",
       "      <td>4.000000</td>\n",
       "      <td>8.000000</td>\n",
       "      <td>298.000000</td>\n",
       "      <td>161.000000</td>\n",
       "      <td>325.000000</td>\n",
       "      <td>138.000000</td>\n",
       "    </tr>\n",
       "    <tr>\n",
       "      <th>75%</th>\n",
       "      <td>272.000000</td>\n",
       "      <td>214152.000000</td>\n",
       "      <td>214818.000000</td>\n",
       "      <td>3.000000</td>\n",
       "      <td>119.000000</td>\n",
       "      <td>7.000000</td>\n",
       "      <td>4.000000</td>\n",
       "      <td>87.000000</td>\n",
       "      <td>54.000000</td>\n",
       "      <td>38.000000</td>\n",
       "      <td>...</td>\n",
       "      <td>54.000000</td>\n",
       "      <td>35.000000</td>\n",
       "      <td>16.000000</td>\n",
       "      <td>13.000000</td>\n",
       "      <td>6.000000</td>\n",
       "      <td>11.000000</td>\n",
       "      <td>562.000000</td>\n",
       "      <td>439.000000</td>\n",
       "      <td>642.000000</td>\n",
       "      <td>378.000000</td>\n",
       "    </tr>\n",
       "    <tr>\n",
       "      <th>max</th>\n",
       "      <td>8312.000000</td>\n",
       "      <td>245099.000000</td>\n",
       "      <td>245099.000000</td>\n",
       "      <td>5.000000</td>\n",
       "      <td>4756.000000</td>\n",
       "      <td>75.000000</td>\n",
       "      <td>114.000000</td>\n",
       "      <td>1957.000000</td>\n",
       "      <td>1330.000000</td>\n",
       "      <td>836.000000</td>\n",
       "      <td>...</td>\n",
       "      <td>893.000000</td>\n",
       "      <td>532.000000</td>\n",
       "      <td>399.000000</td>\n",
       "      <td>50.000000</td>\n",
       "      <td>120.000000</td>\n",
       "      <td>190.000000</td>\n",
       "      <td>2220.000000</td>\n",
       "      <td>16950.000000</td>\n",
       "      <td>2257.000000</td>\n",
       "      <td>16950.000000</td>\n",
       "    </tr>\n",
       "  </tbody>\n",
       "</table>\n",
       "<p>8 rows × 27 columns</p>\n",
       "</div>"
      ],
      "text/plain": [
       "           match_num      winner_id       loser_id        best_of  \\\n",
       "count  185764.000000  185764.000000  185764.000000  185764.000000   \n",
       "mean      160.464175  180105.888068  181613.891987       3.034162   \n",
       "std       289.562750   46571.821798   46645.664816       0.259146   \n",
       "min         1.000000  100644.000000  100644.000000       3.000000   \n",
       "25%        17.000000  122330.000000  124079.000000       3.000000   \n",
       "50%       130.000000  203526.000000  205815.000000       3.000000   \n",
       "75%       272.000000  214152.000000  214818.000000       3.000000   \n",
       "max      8312.000000  245099.000000  245099.000000       5.000000   \n",
       "\n",
       "            minutes         w_ace          w_df        w_svpt       w_1stIn  \\\n",
       "count  81334.000000  81982.000000  81982.000000  81982.000000  81982.000000   \n",
       "mean      97.695269      4.823388      2.855907     71.297004     44.270901   \n",
       "std       41.516997      4.389558      2.420502     25.530921     16.950740   \n",
       "min        0.000000      0.000000      0.000000      0.000000      0.000000   \n",
       "25%       72.000000      2.000000      1.000000     53.000000     33.000000   \n",
       "50%       91.000000      4.000000      2.000000     67.000000     42.000000   \n",
       "75%      119.000000      7.000000      4.000000     87.000000     54.000000   \n",
       "max     4756.000000     75.000000    114.000000   1957.000000   1330.000000   \n",
       "\n",
       "           w_1stWon  ...       l_1stIn      l_1stWon      l_2ndWon  \\\n",
       "count  81982.000000  ...  81982.000000  81982.000000  81982.000000   \n",
       "mean      32.142848  ...     44.565112     28.046169     12.715657   \n",
       "std       11.414119  ...     16.777904     12.274711      6.322835   \n",
       "min        0.000000  ...      0.000000      0.000000      0.000000   \n",
       "25%       24.000000  ...     33.000000     19.000000      8.000000   \n",
       "50%       30.000000  ...     42.000000     26.000000     12.000000   \n",
       "75%       38.000000  ...     54.000000     35.000000     16.000000   \n",
       "max      836.000000  ...    893.000000    532.000000    399.000000   \n",
       "\n",
       "            l_SvGms     l_bpSaved     l_bpFaced    winner_rank  \\\n",
       "count  81986.000000  81982.000000  81982.000000  166392.000000   \n",
       "mean      10.942612      4.658608      8.864238     383.957919   \n",
       "std        3.499454      3.148033      3.967422     314.201072   \n",
       "min        0.000000      0.000000      0.000000       1.000000   \n",
       "25%        9.000000      2.000000      6.000000     137.000000   \n",
       "50%       10.000000      4.000000      8.000000     298.000000   \n",
       "75%       13.000000      6.000000     11.000000     562.000000   \n",
       "max       50.000000    120.000000    190.000000    2220.000000   \n",
       "\n",
       "       winner_rank_points     loser_rank  loser_rank_points  \n",
       "count       166376.000000  150532.000000      150516.000000  \n",
       "mean           470.958107     434.321320         356.754518  \n",
       "std           1041.945639     355.975553         703.270209  \n",
       "min              1.000000       1.000000           1.000000  \n",
       "25%             49.000000     156.000000          35.000000  \n",
       "50%            161.000000     325.000000         138.000000  \n",
       "75%            439.000000     642.000000         378.000000  \n",
       "max          16950.000000    2257.000000       16950.000000  \n",
       "\n",
       "[8 rows x 27 columns]"
      ]
     },
     "execution_count": 45,
     "metadata": {},
     "output_type": "execute_result"
    }
   ],
   "source": [
    "match.describe()"
   ]
  },
  {
   "cell_type": "markdown",
   "metadata": {},
   "source": [
    "## Eliminazione sottogruppo nullo"
   ]
  },
  {
   "cell_type": "code",
   "execution_count": 46,
   "metadata": {},
   "outputs": [],
   "source": [
    "match = match.dropna(subset=['w_ace'])\n",
    "match_originale = match_originale.dropna(subset=['w_ace']) #Aggiorno anche il riferimento ai dati originali vista la quantità"
   ]
  },
  {
   "cell_type": "code",
   "execution_count": 47,
   "metadata": {},
   "outputs": [
    {
     "data": {
      "text/plain": [
       "match_num                0\n",
       "winner_id                0\n",
       "loser_id                 0\n",
       "score                    0\n",
       "best_of                  0\n",
       "round                    0\n",
       "minutes                801\n",
       "w_ace                    0\n",
       "w_df                     0\n",
       "w_svpt                   0\n",
       "w_1stIn                  0\n",
       "w_1stWon                 0\n",
       "w_2ndWon                 0\n",
       "w_SvGms                  0\n",
       "w_bpSaved                0\n",
       "w_bpFaced                0\n",
       "l_ace                    0\n",
       "l_df                     0\n",
       "l_svpt                   0\n",
       "l_1stIn                  0\n",
       "l_1stWon                 0\n",
       "l_2ndWon                 0\n",
       "l_SvGms                  0\n",
       "l_bpSaved                0\n",
       "l_bpFaced                0\n",
       "winner_rank            899\n",
       "winner_rank_points     913\n",
       "loser_rank            3123\n",
       "loser_rank_points     3138\n",
       "tourney_pk               0\n",
       "dtype: int64"
      ]
     },
     "execution_count": 47,
     "metadata": {},
     "output_type": "execute_result"
    }
   ],
   "source": [
    "match.isna().sum()"
   ]
  },
  {
   "cell_type": "markdown",
   "metadata": {},
   "source": [
    "## Gestione dei rank"
   ]
  },
  {
   "cell_type": "code",
   "execution_count": 48,
   "metadata": {},
   "outputs": [
    {
     "data": {
      "text/plain": [
       "<AxesSubplot:xlabel='winner_rank', ylabel='Density'>"
      ]
     },
     "execution_count": 48,
     "metadata": {},
     "output_type": "execute_result"
    },
    {
     "data": {
      "image/png": "[encoded data removed]",
      "text/plain": [
       "<Figure size 432x288 with 1 Axes>"
      ]
     },
     "metadata": {
      "needs_background": "light"
     },
     "output_type": "display_data"
    }
   ],
   "source": [
    "sns.kdeplot(data=match, x=\"winner_rank\")"
   ]
  },
  {
   "cell_type": "code",
   "execution_count": 49,
   "metadata": {},
   "outputs": [
    {
     "data": {
      "text/plain": [
       "<AxesSubplot:xlabel='winner_rank_points', ylabel='Density'>"
      ]
     },
     "execution_count": 49,
     "metadata": {},
     "output_type": "execute_result"
    },
    {
     "data": {
      "image/png": "[encoded data removed]",
      "text/plain": [
       "<Figure size 432x288 with 1 Axes>"
      ]
     },
     "metadata": {
      "needs_background": "light"
     },
     "output_type": "display_data"
    }
   ],
   "source": [
    "sns.kdeplot(data=match, x=\"winner_rank_points\")"
   ]
  },
  {
   "cell_type": "code",
   "execution_count": 50,
   "metadata": {},
   "outputs": [
    {
     "data": {
      "text/plain": [
       "<AxesSubplot:xlabel='loser_rank', ylabel='Density'>"
      ]
     },
     "execution_count": 50,
     "metadata": {},
     "output_type": "execute_result"
    },
    {
     "data": {
      "image/png": "[encoded data removed]",
      "text/plain": [
       "<Figure size 432x288 with 1 Axes>"
      ]
     },
     "metadata": {
      "needs_background": "light"
     },
     "output_type": "display_data"
    }
   ],
   "source": [
    "sns.kdeplot(data=match, x=\"loser_rank\")"
   ]
  },
  {
   "cell_type": "code",
   "execution_count": 51,
   "metadata": {},
   "outputs": [
    {
     "data": {
      "text/plain": [
       "<AxesSubplot:xlabel='loser_rank_points', ylabel='Density'>"
      ]
     },
     "execution_count": 51,
     "metadata": {},
     "output_type": "execute_result"
    },
    {
     "data": {
      "image/png": "[encoded data removed]",
      "text/plain": [
       "<Figure size 432x288 with 1 Axes>"
      ]
     },
     "metadata": {
      "needs_background": "light"
     },
     "output_type": "display_data"
    }
   ],
   "source": [
    "sns.kdeplot(data=match, x=\"loser_rank_points\")"
   ]
  },
  {
   "cell_type": "code",
   "execution_count": 52,
   "metadata": {},
   "outputs": [
    {
     "data": {
      "text/plain": [
       "<AxesSubplot:xlabel='minutes', ylabel='Density'>"
      ]
     },
     "execution_count": 52,
     "metadata": {},
     "output_type": "execute_result"
    },
    {
     "data": {
      "image/png": "[encoded data removed]",
      "text/plain": [
       "<Figure size 432x288 with 1 Axes>"
      ]
     },
     "metadata": {
      "needs_background": "light"
     },
     "output_type": "display_data"
    }
   ],
   "source": [
    "sns.kdeplot(data=match, x=\"minutes\")"
   ]
  },
  {
   "cell_type": "code",
   "execution_count": 53,
   "metadata": {},
   "outputs": [
    {
     "data": {
      "text/plain": [
       "39548     1146.0\n",
       "44289     1531.0\n",
       "55054     2475.0\n",
       "78869     1094.0\n",
       "84424     1237.0\n",
       "99504     1266.0\n",
       "108907    1392.0\n",
       "110380    1507.0\n",
       "125506     814.0\n",
       "133316     740.0\n",
       "136910     510.0\n",
       "139224    4756.0\n",
       "166168     987.0\n",
       "168641     563.0\n",
       "169170    1211.0\n",
       "172344    1241.0\n",
       "Name: minutes, dtype: float64"
      ]
     },
     "execution_count": 53,
     "metadata": {},
     "output_type": "execute_result"
    }
   ],
   "source": [
    "match[match.minutes > 500]['minutes'] #outliers"
   ]
  },
  {
   "cell_type": "code",
   "execution_count": 54,
   "metadata": {},
   "outputs": [
    {
     "data": {
      "text/plain": [
       "<AxesSubplot:xlabel='minutes', ylabel='Density'>"
      ]
     },
     "execution_count": 54,
     "metadata": {},
     "output_type": "execute_result"
    },
    {
     "data": {
      "image/png": "[encoded data removed]",
      "text/plain": [
       "<Figure size 432x288 with 1 Axes>"
      ]
     },
     "metadata": {
      "needs_background": "light"
     },
     "output_type": "display_data"
    }
   ],
   "source": [
    "sns.kdeplot(data=match[match.minutes < 500], x=\"minutes\")"
   ]
  },
  {
   "cell_type": "code",
   "execution_count": 62,
   "metadata": {},
   "outputs": [
    {
     "data": {
      "text/plain": [
       "(151.0, nan)"
      ]
     },
     "execution_count": 62,
     "metadata": {},
     "output_type": "execute_result"
    }
   ],
   "source": [
    "np.median(match.winner_rank), np.median(match.winner_rank_points)"
   ]
  },
  {
   "cell_type": "code",
   "execution_count": 65,
   "metadata": {},
   "outputs": [],
   "source": [
    "match['winner_rank'] = match.winner_rank.fillna(int(np.median(match.winner_rank)))\n",
    "match['winner_rank_points'] = match.winner_rank_points.fillna(int(np.nanmedian(match.winner_rank_points)))\n",
    "match['loser_rank'] = match.loser_rank.fillna(int(np.nanmedian(match.loser_rank)))\n",
    "match['loser_rank_points'] = match.loser_rank_points.fillna(int(np.nanmedian(match.loser_rank_points)))\n",
    "\n",
    "match['minutes'] = match.groupby('tourney_pk')['minutes'].apply(lambda x: x.ffill().bfill())\n",
    "match = match.dropna(subset=['minutes'])\n",
    "\n",
    "match = match.astype({\"minutes\": int, \"w_ace\": int, \"w_df\": int, \"w_svpt\": int,\n",
    "                      \"w_1stIn\": int, \"w_1stWon\": int, \"w_2ndWon\": int, \"w_SvGms\": int,\n",
    "                      \"w_bpSaved\": int, \"w_bpFaced\": int, \"l_ace\": int, \"l_df\": int,\n",
    "                      \"l_svpt\": int, \"l_1stIn\": int, \"l_1stWon\": int, \"l_2ndWon\": int,\n",
    "                      \"l_SvGms\": int, \"l_bpSaved\": int, \"l_bpFaced\": int\n",
    "                    })"
   ]
  },
  {
   "cell_type": "code",
   "execution_count": 66,
   "metadata": {},
   "outputs": [
    {
     "data": {
      "text/plain": [
       "<AxesSubplot:>"
      ]
     },
     "execution_count": 66,
     "metadata": {},
     "output_type": "execute_result"
    },
    {
     "data": {
      "image/png": "[encoded data removed]",
      "text/plain": [
       "<Figure size 432x288 with 1 Axes>"
      ]
     },
     "metadata": {
      "needs_background": "light"
     },
     "output_type": "display_data"
    }
   ],
   "source": [
    "match['winner_rank'].hist(bins=20)\n",
    "match_originale['winner_rank'].hist(bins=20)"
   ]
  },
  {
   "cell_type": "code",
   "execution_count": 67,
   "metadata": {},
   "outputs": [
    {
     "data": {
      "text/plain": [
       "<matplotlib.legend.Legend at 0x231f2c6a700>"
      ]
     },
     "execution_count": 67,
     "metadata": {},
     "output_type": "execute_result"
    },
    {
     "data": {
      "image/png": "[encoded data removed]",
      "text/plain": [
       "<Figure size 432x288 with 1 Axes>"
      ]
     },
     "metadata": {
      "needs_background": "light"
     },
     "output_type": "display_data"
    }
   ],
   "source": [
    "sns.kdeplot(data=match['winner_rank'], label='new')\n",
    "sns.kdeplot(data=match_originale['winner_rank'], label='old')\n",
    "plt.legend()"
   ]
  },
  {
   "cell_type": "code",
   "execution_count": null,
   "metadata": {},
   "outputs": [],
   "source": []
  },
  {
   "cell_type": "code",
   "execution_count": 68,
   "metadata": {},
   "outputs": [
    {
     "data": {
      "text/plain": [
       "<AxesSubplot:>"
      ]
     },
     "execution_count": 68,
     "metadata": {},
     "output_type": "execute_result"
    },
    {
     "data": {
      "image/png": "[encoded data removed]",
      "text/plain": [
       "<Figure size 432x288 with 1 Axes>"
      ]
     },
     "metadata": {
      "needs_background": "light"
     },
     "output_type": "display_data"
    }
   ],
   "source": [
    "match['winner_rank_points'].hist(bins=20)\n",
    "match_originale['winner_rank_points'].hist(bins=20)"
   ]
  },
  {
   "cell_type": "code",
   "execution_count": 69,
   "metadata": {},
   "outputs": [
    {
     "data": {
      "text/plain": [
       "<matplotlib.legend.Legend at 0x231f32c5a60>"
      ]
     },
     "execution_count": 69,
     "metadata": {},
     "output_type": "execute_result"
    },
    {
     "data": {
      "image/png": "[encoded data removed]",
      "text/plain": [
       "<Figure size 432x288 with 1 Axes>"
      ]
     },
     "metadata": {
      "needs_background": "light"
     },
     "output_type": "display_data"
    }
   ],
   "source": [
    "sns.kdeplot(data=match['winner_rank_points'], label='new')\n",
    "sns.kdeplot(data=match_originale['winner_rank_points'], label='old')\n",
    "plt.legend()"
   ]
  },
  {
   "cell_type": "code",
   "execution_count": null,
   "metadata": {},
   "outputs": [],
   "source": []
  },
  {
   "cell_type": "code",
   "execution_count": 70,
   "metadata": {},
   "outputs": [
    {
     "data": {
      "text/plain": [
       "<AxesSubplot:>"
      ]
     },
     "execution_count": 70,
     "metadata": {},
     "output_type": "execute_result"
    },
    {
     "data": {
      "image/png": "[encoded data removed]",
      "text/plain": [
       "<Figure size 432x288 with 1 Axes>"
      ]
     },
     "metadata": {
      "needs_background": "light"
     },
     "output_type": "display_data"
    }
   ],
   "source": [
    "match['loser_rank_points'].hist(bins=20)\n",
    "match_originale['loser_rank_points'].hist(bins=20)"
   ]
  },
  {
   "cell_type": "code",
   "execution_count": 71,
   "metadata": {},
   "outputs": [
    {
     "data": {
      "text/plain": [
       "<matplotlib.legend.Legend at 0x231f2f60e80>"
      ]
     },
     "execution_count": 71,
     "metadata": {},
     "output_type": "execute_result"
    },
    {
     "data": {
      "image/png": "[encoded data removed]",
      "text/plain": [
       "<Figure size 432x288 with 1 Axes>"
      ]
     },
     "metadata": {
      "needs_background": "light"
     },
     "output_type": "display_data"
    }
   ],
   "source": [
    "sns.kdeplot(data=match['loser_rank_points'], label='new')\n",
    "sns.kdeplot(data=match_originale['loser_rank_points'], label='old')\n",
    "plt.legend()"
   ]
  },
  {
   "cell_type": "code",
   "execution_count": null,
   "metadata": {},
   "outputs": [],
   "source": []
  },
  {
   "cell_type": "code",
   "execution_count": 72,
   "metadata": {},
   "outputs": [
    {
     "data": {
      "text/plain": [
       "<AxesSubplot:>"
      ]
     },
     "execution_count": 72,
     "metadata": {},
     "output_type": "execute_result"
    },
    {
     "data": {
      "image/png": "[encoded data removed]",
      "text/plain": [
       "<Figure size 432x288 with 1 Axes>"
      ]
     },
     "metadata": {
      "needs_background": "light"
     },
     "output_type": "display_data"
    }
   ],
   "source": [
    "match['loser_rank'].hist(bins=20)\n",
    "match_originale['loser_rank'].hist(bins=20)"
   ]
  },
  {
   "cell_type": "code",
   "execution_count": 73,
   "metadata": {},
   "outputs": [
    {
     "data": {
      "text/plain": [
       "<matplotlib.legend.Legend at 0x231f34223d0>"
      ]
     },
     "execution_count": 73,
     "metadata": {},
     "output_type": "execute_result"
    },
    {
     "data": {
      "image/png": "[encoded data removed]",
      "text/plain": [
       "<Figure size 432x288 with 1 Axes>"
      ]
     },
     "metadata": {
      "needs_background": "light"
     },
     "output_type": "display_data"
    }
   ],
   "source": [
    "sns.kdeplot(data=match['loser_rank'], label='new')\n",
    "sns.kdeplot(data=match_originale['loser_rank'], label='old')\n",
    "plt.legend()"
   ]
  },
  {
   "cell_type": "markdown",
   "metadata": {},
   "source": [
    "## Player - gestione hand e ht"
   ]
  },
  {
   "cell_type": "code",
   "execution_count": 78,
   "metadata": {},
   "outputs": [],
   "source": [
    "#outlier\n",
    "player_originale.loc[player_originale.ht < 100, 'ht'] = None\n",
    "player.loc[player.ht < 100, 'ht'] = None"
   ]
  },
  {
   "cell_type": "code",
   "execution_count": 79,
   "metadata": {},
   "outputs": [
    {
     "data": {
      "text/plain": [
       "<AxesSubplot:xlabel='ht', ylabel='Density'>"
      ]
     },
     "execution_count": 79,
     "metadata": {},
     "output_type": "execute_result"
    },
    {
     "data": {
      "image/png": "[encoded data removed]",
      "text/plain": [
       "<Figure size 432x288 with 1 Axes>"
      ]
     },
     "metadata": {
      "needs_background": "light"
     },
     "output_type": "display_data"
    }
   ],
   "source": [
    "sns.kdeplot(data=player, x=\"ht\", hue=\"sex\")"
   ]
  },
  {
   "cell_type": "code",
   "execution_count": 81,
   "metadata": {},
   "outputs": [
    {
     "data": {
      "text/plain": [
       "player_id           0\n",
       "country_id          0\n",
       "name                0\n",
       "sex                 0\n",
       "hand               33\n",
       "ht               9552\n",
       "year_of_birth    2108\n",
       "dtype: int64"
      ]
     },
     "execution_count": 81,
     "metadata": {},
     "output_type": "execute_result"
    }
   ],
   "source": [
    "player.loc[player.year_of_birth < 1, 'year_of_birth'] = None\n",
    "player_originale.loc[player_originale.year_of_birth < 1, 'year_of_birth'] = None\n",
    "\n",
    "player.isna().sum()"
   ]
  },
  {
   "cell_type": "code",
   "execution_count": 82,
   "metadata": {},
   "outputs": [],
   "source": [
    "player['hand'] = player.hand.fillna('U')\n",
    "player['ht'] = player.groupby('sex')['ht'].apply(lambda x: x.ffill().bfill())"
   ]
  },
  {
   "cell_type": "code",
   "execution_count": 83,
   "metadata": {},
   "outputs": [
    {
     "data": {
      "text/plain": [
       "<AxesSubplot:>"
      ]
     },
     "execution_count": 83,
     "metadata": {},
     "output_type": "execute_result"
    },
    {
     "data": {
      "image/png": "[encoded data removed]",
      "text/plain": [
       "<Figure size 432x288 with 1 Axes>"
      ]
     },
     "metadata": {
      "needs_background": "light"
     },
     "output_type": "display_data"
    }
   ],
   "source": [
    "player['hand'].value_counts(dropna=False).plot(kind=\"bar\")\n",
    "player_originale['hand'].value_counts(dropna=False).plot(kind=\"bar\")"
   ]
  },
  {
   "cell_type": "code",
   "execution_count": 31,
   "metadata": {},
   "outputs": [
    {
     "data": {
      "text/plain": [
       "<AxesSubplot:>"
      ]
     },
     "execution_count": 31,
     "metadata": {},
     "output_type": "execute_result"
    },
    {
     "data": {
      "image/png": "[encoded data removed]",
      "text/plain": [
       "<Figure size 432x288 with 1 Axes>"
      ]
     },
     "metadata": {
      "needs_background": "light"
     },
     "output_type": "display_data"
    }
   ],
   "source": [
    "player['ht'][player.sex == \"male\"].hist()\n",
    "player_originale['ht'][player.sex == \"male\"].hist()"
   ]
  },
  {
   "cell_type": "code",
   "execution_count": 84,
   "metadata": {},
   "outputs": [
    {
     "data": {
      "text/plain": [
       "<matplotlib.legend.Legend at 0x231f310ba30>"
      ]
     },
     "execution_count": 84,
     "metadata": {},
     "output_type": "execute_result"
    },
    {
     "data": {
      "image/png": "[encoded data removed]",
      "text/plain": [
       "<Figure size 432x288 with 1 Axes>"
      ]
     },
     "metadata": {
      "needs_background": "light"
     },
     "output_type": "display_data"
    }
   ],
   "source": [
    "sns.kdeplot(data=player['ht'][player.sex == \"male\"], label='new')\n",
    "sns.kdeplot(data=player_originale['ht'][player.sex == \"male\"], label='old')\n",
    "plt.legend()"
   ]
  },
  {
   "cell_type": "code",
   "execution_count": null,
   "metadata": {},
   "outputs": [],
   "source": []
  },
  {
   "cell_type": "code",
   "execution_count": 32,
   "metadata": {},
   "outputs": [
    {
     "data": {
      "text/plain": [
       "<AxesSubplot:>"
      ]
     },
     "execution_count": 32,
     "metadata": {},
     "output_type": "execute_result"
    },
    {
     "data": {
      "image/png": "[encoded data removed]",
      "text/plain": [
       "<Figure size 432x288 with 1 Axes>"
      ]
     },
     "metadata": {
      "needs_background": "light"
     },
     "output_type": "display_data"
    }
   ],
   "source": [
    "player['ht'][player.sex != \"male\"].hist()\n",
    "player_originale['ht'][player.sex != \"male\"].hist()"
   ]
  },
  {
   "cell_type": "code",
   "execution_count": 85,
   "metadata": {},
   "outputs": [
    {
     "data": {
      "text/plain": [
       "<matplotlib.legend.Legend at 0x231f30c32e0>"
      ]
     },
     "execution_count": 85,
     "metadata": {},
     "output_type": "execute_result"
    },
    {
     "data": {
      "image/png": "[encoded data removed]",
      "text/plain": [
       "<Figure size 432x288 with 1 Axes>"
      ]
     },
     "metadata": {
      "needs_background": "light"
     },
     "output_type": "display_data"
    }
   ],
   "source": [
    "sns.kdeplot(data=player['ht'][player.sex != \"male\"], label='new')\n",
    "sns.kdeplot(data=player_originale['ht'][player.sex != \"male\"], label='old')\n",
    "plt.legend()"
   ]
  },
  {
   "cell_type": "code",
   "execution_count": null,
   "metadata": {},
   "outputs": [],
   "source": []
  },
  {
   "cell_type": "code",
   "execution_count": 91,
   "metadata": {},
   "outputs": [
    {
     "data": {
      "text/plain": [
       "<AxesSubplot:>"
      ]
     },
     "execution_count": 91,
     "metadata": {},
     "output_type": "execute_result"
    },
    {
     "data": {
      "image/png": "[encoded data removed]",
      "text/plain": [
       "<Figure size 432x288 with 1 Axes>"
      ]
     },
     "metadata": {
      "needs_background": "light"
     },
     "output_type": "display_data"
    }
   ],
   "source": [
    "player['year_of_birth'].hist()"
   ]
  },
  {
   "cell_type": "code",
   "execution_count": 92,
   "metadata": {},
   "outputs": [
    {
     "data": {
      "text/plain": [
       "<AxesSubplot:>"
      ]
     },
     "execution_count": 92,
     "metadata": {},
     "output_type": "execute_result"
    },
    {
     "data": {
      "image/png": "[encoded data removed]",
      "text/plain": [
       "<Figure size 432x288 with 1 Axes>"
      ]
     },
     "metadata": {
      "needs_background": "light"
     },
     "output_type": "display_data"
    }
   ],
   "source": [
    "player['year_of_birth'] = player.year_of_birth.ffill().bfill()\n",
    "\n",
    "player['year_of_birth'].hist()\n",
    "player_originale['year_of_birth'].hist()"
   ]
  },
  {
   "cell_type": "code",
   "execution_count": 93,
   "metadata": {},
   "outputs": [],
   "source": [
    "player = player.astype({\"ht\": int, \"year_of_birth\": int})"
   ]
  },
  {
   "cell_type": "markdown",
   "metadata": {},
   "source": [
    "## Tournament - gestione surface "
   ]
  },
  {
   "cell_type": "code",
   "execution_count": 94,
   "metadata": {},
   "outputs": [
    {
     "data": {
      "text/plain": [
       "tourney_pk             0\n",
       "tourney_id             0\n",
       "date_id                0\n",
       "tourney_name           0\n",
       "surface               62\n",
       "draw_size              0\n",
       "tourney_level          0\n",
       "tourney_spectators     0\n",
       "tourney_revenue        0\n",
       "dtype: int64"
      ]
     },
     "execution_count": 94,
     "metadata": {},
     "output_type": "execute_result"
    }
   ],
   "source": [
    "tournament.isna().sum()"
   ]
  },
  {
   "cell_type": "code",
   "execution_count": 95,
   "metadata": {},
   "outputs": [],
   "source": [
    "tournament['surface'] = tournament.groupby('tourney_name')['surface'].apply(lambda x: x.ffill().bfill())\n",
    "tournament['surface'] = tournament.surface.fillna('Hard')"
   ]
  },
  {
   "cell_type": "code",
   "execution_count": 96,
   "metadata": {},
   "outputs": [
    {
     "data": {
      "text/plain": [
       "<AxesSubplot:>"
      ]
     },
     "execution_count": 96,
     "metadata": {},
     "output_type": "execute_result"
    },
    {
     "data": {
      "image/png": "[encoded data removed]",
      "text/plain": [
       "<Figure size 432x288 with 1 Axes>"
      ]
     },
     "metadata": {
      "needs_background": "light"
     },
     "output_type": "display_data"
    }
   ],
   "source": [
    "tournament_originale.surface.value_counts(dropna=False).plot(kind=\"bar\")\n",
    "tournament.surface.value_counts().plot(kind=\"bar\")\n"
   ]
  },
  {
   "cell_type": "code",
   "execution_count": null,
   "metadata": {},
   "outputs": [],
   "source": []
  },
  {
   "cell_type": "code",
   "execution_count": 98,
   "metadata": {},
   "outputs": [],
   "source": [
    "match.to_csv('output/match_noNull.csv', index=False)\n",
    "player.to_csv('output/players_noNull.csv', index=False)\n",
    "tournament.to_csv('output/tournament_noNull.csv', index=False)"
   ]
  },
  {
   "cell_type": "code",
   "execution_count": 99,
   "metadata": {},
   "outputs": [
    {
     "data": {
      "text/html": [
       "<div>\n",
       "<style scoped>\n",
       "    .dataframe tbody tr th:only-of-type {\n",
       "        vertical-align: middle;\n",
       "    }\n",
       "\n",
       "    .dataframe tbody tr th {\n",
       "        vertical-align: top;\n",
       "    }\n",
       "\n",
       "    .dataframe thead th {\n",
       "        text-align: right;\n",
       "    }\n",
       "</style>\n",
       "<table border=\"1\" class=\"dataframe\">\n",
       "  <thead>\n",
       "    <tr style=\"text-align: right;\">\n",
       "      <th></th>\n",
       "      <th>match_num</th>\n",
       "      <th>winner_id</th>\n",
       "      <th>loser_id</th>\n",
       "      <th>score</th>\n",
       "      <th>best_of</th>\n",
       "      <th>round</th>\n",
       "      <th>minutes</th>\n",
       "      <th>w_ace</th>\n",
       "      <th>w_df</th>\n",
       "      <th>w_svpt</th>\n",
       "      <th>...</th>\n",
       "      <th>l_1stWon</th>\n",
       "      <th>l_2ndWon</th>\n",
       "      <th>l_SvGms</th>\n",
       "      <th>l_bpSaved</th>\n",
       "      <th>l_bpFaced</th>\n",
       "      <th>winner_rank</th>\n",
       "      <th>winner_rank_points</th>\n",
       "      <th>loser_rank</th>\n",
       "      <th>loser_rank_points</th>\n",
       "      <th>tourney_pk</th>\n",
       "    </tr>\n",
       "  </thead>\n",
       "  <tbody>\n",
       "    <tr>\n",
       "      <th>1</th>\n",
       "      <td>287</td>\n",
       "      <td>201580</td>\n",
       "      <td>214643</td>\n",
       "      <td>7-5 6-4</td>\n",
       "      <td>3</td>\n",
       "      <td>R16</td>\n",
       "      <td>98</td>\n",
       "      <td>0</td>\n",
       "      <td>2</td>\n",
       "      <td>67</td>\n",
       "      <td>...</td>\n",
       "      <td>19</td>\n",
       "      <td>16</td>\n",
       "      <td>11</td>\n",
       "      <td>8</td>\n",
       "      <td>14</td>\n",
       "      <td>182.0</td>\n",
       "      <td>326.0</td>\n",
       "      <td>147.0</td>\n",
       "      <td>402.0</td>\n",
       "      <td>2019-1094I201930715Lausanne</td>\n",
       "    </tr>\n",
       "    <tr>\n",
       "      <th>4</th>\n",
       "      <td>291</td>\n",
       "      <td>111575</td>\n",
       "      <td>105379</td>\n",
       "      <td>7-6(4) 5-7 6-4</td>\n",
       "      <td>3</td>\n",
       "      <td>R16</td>\n",
       "      <td>147</td>\n",
       "      <td>7</td>\n",
       "      <td>3</td>\n",
       "      <td>110</td>\n",
       "      <td>...</td>\n",
       "      <td>43</td>\n",
       "      <td>25</td>\n",
       "      <td>17</td>\n",
       "      <td>2</td>\n",
       "      <td>4</td>\n",
       "      <td>32.0</td>\n",
       "      <td>1249.0</td>\n",
       "      <td>46.0</td>\n",
       "      <td>933.0</td>\n",
       "      <td>2017-0414A201730724Hamburg</td>\n",
       "    </tr>\n",
       "    <tr>\n",
       "      <th>6</th>\n",
       "      <td>293</td>\n",
       "      <td>201697</td>\n",
       "      <td>204430</td>\n",
       "      <td>6-2 6-4</td>\n",
       "      <td>3</td>\n",
       "      <td>R16</td>\n",
       "      <td>75</td>\n",
       "      <td>10</td>\n",
       "      <td>3</td>\n",
       "      <td>49</td>\n",
       "      <td>...</td>\n",
       "      <td>27</td>\n",
       "      <td>9</td>\n",
       "      <td>9</td>\n",
       "      <td>6</td>\n",
       "      <td>10</td>\n",
       "      <td>101.0</td>\n",
       "      <td>606.0</td>\n",
       "      <td>182.0</td>\n",
       "      <td>328.0</td>\n",
       "      <td>2019-1101I201920408Lugano</td>\n",
       "    </tr>\n",
       "    <tr>\n",
       "      <th>10</th>\n",
       "      <td>1</td>\n",
       "      <td>202604</td>\n",
       "      <td>203567</td>\n",
       "      <td>3-6 6-2 6-2</td>\n",
       "      <td>3</td>\n",
       "      <td>RR</td>\n",
       "      <td>106</td>\n",
       "      <td>2</td>\n",
       "      <td>2</td>\n",
       "      <td>74</td>\n",
       "      <td>...</td>\n",
       "      <td>25</td>\n",
       "      <td>14</td>\n",
       "      <td>12</td>\n",
       "      <td>9</td>\n",
       "      <td>17</td>\n",
       "      <td>462.0</td>\n",
       "      <td>57.0</td>\n",
       "      <td>516.0</td>\n",
       "      <td>41.0</td>\n",
       "      <td>2019-W-FC-2019-G1-EPA-B-PP5-8-GRE-TUR-01D20191...</td>\n",
       "    </tr>\n",
       "    <tr>\n",
       "      <th>12</th>\n",
       "      <td>208</td>\n",
       "      <td>200033</td>\n",
       "      <td>201540</td>\n",
       "      <td>7-5 7-6(2)</td>\n",
       "      <td>3</td>\n",
       "      <td>R32</td>\n",
       "      <td>109</td>\n",
       "      <td>13</td>\n",
       "      <td>3</td>\n",
       "      <td>76</td>\n",
       "      <td>...</td>\n",
       "      <td>33</td>\n",
       "      <td>19</td>\n",
       "      <td>12</td>\n",
       "      <td>5</td>\n",
       "      <td>8</td>\n",
       "      <td>181.0</td>\n",
       "      <td>315.0</td>\n",
       "      <td>62.0</td>\n",
       "      <td>926.0</td>\n",
       "      <td>2018-540G201830702Wimbledon</td>\n",
       "    </tr>\n",
       "    <tr>\n",
       "      <th>...</th>\n",
       "      <td>...</td>\n",
       "      <td>...</td>\n",
       "      <td>...</td>\n",
       "      <td>...</td>\n",
       "      <td>...</td>\n",
       "      <td>...</td>\n",
       "      <td>...</td>\n",
       "      <td>...</td>\n",
       "      <td>...</td>\n",
       "      <td>...</td>\n",
       "      <td>...</td>\n",
       "      <td>...</td>\n",
       "      <td>...</td>\n",
       "      <td>...</td>\n",
       "      <td>...</td>\n",
       "      <td>...</td>\n",
       "      <td>...</td>\n",
       "      <td>...</td>\n",
       "      <td>...</td>\n",
       "      <td>...</td>\n",
       "      <td>...</td>\n",
       "    </tr>\n",
       "    <tr>\n",
       "      <th>185751</th>\n",
       "      <td>249</td>\n",
       "      <td>106109</td>\n",
       "      <td>208143</td>\n",
       "      <td>6-1 6-4</td>\n",
       "      <td>3</td>\n",
       "      <td>Q1</td>\n",
       "      <td>60</td>\n",
       "      <td>4</td>\n",
       "      <td>3</td>\n",
       "      <td>47</td>\n",
       "      <td>...</td>\n",
       "      <td>16</td>\n",
       "      <td>11</td>\n",
       "      <td>9</td>\n",
       "      <td>4</td>\n",
       "      <td>8</td>\n",
       "      <td>169.0</td>\n",
       "      <td>333.0</td>\n",
       "      <td>1425.0</td>\n",
       "      <td>2.0</td>\n",
       "      <td>2018-6116A201830723Atlanta</td>\n",
       "    </tr>\n",
       "    <tr>\n",
       "      <th>185752</th>\n",
       "      <td>276</td>\n",
       "      <td>104871</td>\n",
       "      <td>104677</td>\n",
       "      <td>6-4 6-2</td>\n",
       "      <td>3</td>\n",
       "      <td>R32</td>\n",
       "      <td>61</td>\n",
       "      <td>1</td>\n",
       "      <td>1</td>\n",
       "      <td>46</td>\n",
       "      <td>...</td>\n",
       "      <td>23</td>\n",
       "      <td>11</td>\n",
       "      <td>9</td>\n",
       "      <td>3</td>\n",
       "      <td>6</td>\n",
       "      <td>71.0</td>\n",
       "      <td>705.0</td>\n",
       "      <td>184.0</td>\n",
       "      <td>309.0</td>\n",
       "      <td>2017-0301A201710109Auckland</td>\n",
       "    </tr>\n",
       "    <tr>\n",
       "      <th>185753</th>\n",
       "      <td>267</td>\n",
       "      <td>202467</td>\n",
       "      <td>201565</td>\n",
       "      <td>6-4 6-2</td>\n",
       "      <td>3</td>\n",
       "      <td>Q3</td>\n",
       "      <td>93</td>\n",
       "      <td>3</td>\n",
       "      <td>0</td>\n",
       "      <td>48</td>\n",
       "      <td>...</td>\n",
       "      <td>26</td>\n",
       "      <td>8</td>\n",
       "      <td>9</td>\n",
       "      <td>6</td>\n",
       "      <td>11</td>\n",
       "      <td>136.0</td>\n",
       "      <td>416.0</td>\n",
       "      <td>295.0</td>\n",
       "      <td>142.0</td>\n",
       "      <td>2016-1079I201630711Bucharest</td>\n",
       "    </tr>\n",
       "    <tr>\n",
       "      <th>185755</th>\n",
       "      <td>275</td>\n",
       "      <td>214263</td>\n",
       "      <td>201478</td>\n",
       "      <td>6-4 4-6 7-6(5)</td>\n",
       "      <td>3</td>\n",
       "      <td>R32</td>\n",
       "      <td>145</td>\n",
       "      <td>0</td>\n",
       "      <td>4</td>\n",
       "      <td>136</td>\n",
       "      <td>...</td>\n",
       "      <td>50</td>\n",
       "      <td>15</td>\n",
       "      <td>16</td>\n",
       "      <td>7</td>\n",
       "      <td>12</td>\n",
       "      <td>210.0</td>\n",
       "      <td>398.0</td>\n",
       "      <td>167.0</td>\n",
       "      <td>361.0</td>\n",
       "      <td>2019-2001C201941111Houston</td>\n",
       "    </tr>\n",
       "    <tr>\n",
       "      <th>185760</th>\n",
       "      <td>200</td>\n",
       "      <td>201474</td>\n",
       "      <td>211701</td>\n",
       "      <td>6-3 6-1</td>\n",
       "      <td>3</td>\n",
       "      <td>R32</td>\n",
       "      <td>62</td>\n",
       "      <td>1</td>\n",
       "      <td>1</td>\n",
       "      <td>45</td>\n",
       "      <td>...</td>\n",
       "      <td>17</td>\n",
       "      <td>9</td>\n",
       "      <td>8</td>\n",
       "      <td>4</td>\n",
       "      <td>8</td>\n",
       "      <td>3.0</td>\n",
       "      <td>5875.0</td>\n",
       "      <td>114.0</td>\n",
       "      <td>586.0</td>\n",
       "      <td>2016-540G201620627Wimbledon</td>\n",
       "    </tr>\n",
       "  </tbody>\n",
       "</table>\n",
       "<p>81919 rows × 30 columns</p>\n",
       "</div>"
      ],
      "text/plain": [
       "        match_num  winner_id  loser_id           score  best_of round  \\\n",
       "1             287     201580    214643         7-5 6-4        3   R16   \n",
       "4             291     111575    105379  7-6(4) 5-7 6-4        3   R16   \n",
       "6             293     201697    204430         6-2 6-4        3   R16   \n",
       "10              1     202604    203567     3-6 6-2 6-2        3    RR   \n",
       "12            208     200033    201540      7-5 7-6(2)        3   R32   \n",
       "...           ...        ...       ...             ...      ...   ...   \n",
       "185751        249     106109    208143         6-1 6-4        3    Q1   \n",
       "185752        276     104871    104677         6-4 6-2        3   R32   \n",
       "185753        267     202467    201565         6-4 6-2        3    Q3   \n",
       "185755        275     214263    201478  6-4 4-6 7-6(5)        3   R32   \n",
       "185760        200     201474    211701         6-3 6-1        3   R32   \n",
       "\n",
       "        minutes  w_ace  w_df  w_svpt  ...  l_1stWon  l_2ndWon  l_SvGms  \\\n",
       "1            98      0     2      67  ...        19        16       11   \n",
       "4           147      7     3     110  ...        43        25       17   \n",
       "6            75     10     3      49  ...        27         9        9   \n",
       "10          106      2     2      74  ...        25        14       12   \n",
       "12          109     13     3      76  ...        33        19       12   \n",
       "...         ...    ...   ...     ...  ...       ...       ...      ...   \n",
       "185751       60      4     3      47  ...        16        11        9   \n",
       "185752       61      1     1      46  ...        23        11        9   \n",
       "185753       93      3     0      48  ...        26         8        9   \n",
       "185755      145      0     4     136  ...        50        15       16   \n",
       "185760       62      1     1      45  ...        17         9        8   \n",
       "\n",
       "        l_bpSaved  l_bpFaced  winner_rank  winner_rank_points  loser_rank  \\\n",
       "1               8         14        182.0               326.0       147.0   \n",
       "4               2          4         32.0              1249.0        46.0   \n",
       "6               6         10        101.0               606.0       182.0   \n",
       "10              9         17        462.0                57.0       516.0   \n",
       "12              5          8        181.0               315.0        62.0   \n",
       "...           ...        ...          ...                 ...         ...   \n",
       "185751          4          8        169.0               333.0      1425.0   \n",
       "185752          3          6         71.0               705.0       184.0   \n",
       "185753          6         11        136.0               416.0       295.0   \n",
       "185755          7         12        210.0               398.0       167.0   \n",
       "185760          4          8          3.0              5875.0       114.0   \n",
       "\n",
       "        loser_rank_points                                         tourney_pk  \n",
       "1                   402.0                        2019-1094I201930715Lausanne  \n",
       "4                   933.0                         2017-0414A201730724Hamburg  \n",
       "6                   328.0                          2019-1101I201920408Lugano  \n",
       "10                   41.0  2019-W-FC-2019-G1-EPA-B-PP5-8-GRE-TUR-01D20191...  \n",
       "12                  926.0                        2018-540G201830702Wimbledon  \n",
       "...                   ...                                                ...  \n",
       "185751                2.0                         2018-6116A201830723Atlanta  \n",
       "185752              309.0                        2017-0301A201710109Auckland  \n",
       "185753              142.0                       2016-1079I201630711Bucharest  \n",
       "185755              361.0                         2019-2001C201941111Houston  \n",
       "185760              586.0                        2016-540G201620627Wimbledon  \n",
       "\n",
       "[81919 rows x 30 columns]"
      ]
     },
     "execution_count": 99,
     "metadata": {},
     "output_type": "execute_result"
    }
   ],
   "source": [
    "match"
   ]
  },
  {
   "cell_type": "code",
   "execution_count": 100,
   "metadata": {},
   "outputs": [
    {
     "data": {
      "text/html": [
       "<div>\n",
       "<style scoped>\n",
       "    .dataframe tbody tr th:only-of-type {\n",
       "        vertical-align: middle;\n",
       "    }\n",
       "\n",
       "    .dataframe tbody tr th {\n",
       "        vertical-align: top;\n",
       "    }\n",
       "\n",
       "    .dataframe thead th {\n",
       "        text-align: right;\n",
       "    }\n",
       "</style>\n",
       "<table border=\"1\" class=\"dataframe\">\n",
       "  <thead>\n",
       "    <tr style=\"text-align: right;\">\n",
       "      <th></th>\n",
       "      <th>match_num</th>\n",
       "      <th>winner_id</th>\n",
       "      <th>tourney_pk</th>\n",
       "    </tr>\n",
       "  </thead>\n",
       "  <tbody>\n",
       "    <tr>\n",
       "      <th>1</th>\n",
       "      <td>287</td>\n",
       "      <td>201580</td>\n",
       "      <td>2019-1094I201930715Lausanne</td>\n",
       "    </tr>\n",
       "    <tr>\n",
       "      <th>4</th>\n",
       "      <td>291</td>\n",
       "      <td>111575</td>\n",
       "      <td>2017-0414A201730724Hamburg</td>\n",
       "    </tr>\n",
       "    <tr>\n",
       "      <th>6</th>\n",
       "      <td>293</td>\n",
       "      <td>201697</td>\n",
       "      <td>2019-1101I201920408Lugano</td>\n",
       "    </tr>\n",
       "    <tr>\n",
       "      <th>10</th>\n",
       "      <td>1</td>\n",
       "      <td>202604</td>\n",
       "      <td>2019-W-FC-2019-G1-EPA-B-PP5-8-GRE-TUR-01D20191...</td>\n",
       "    </tr>\n",
       "    <tr>\n",
       "      <th>12</th>\n",
       "      <td>208</td>\n",
       "      <td>200033</td>\n",
       "      <td>2018-540G201830702Wimbledon</td>\n",
       "    </tr>\n",
       "    <tr>\n",
       "      <th>...</th>\n",
       "      <td>...</td>\n",
       "      <td>...</td>\n",
       "      <td>...</td>\n",
       "    </tr>\n",
       "    <tr>\n",
       "      <th>185751</th>\n",
       "      <td>249</td>\n",
       "      <td>106109</td>\n",
       "      <td>2018-6116A201830723Atlanta</td>\n",
       "    </tr>\n",
       "    <tr>\n",
       "      <th>185752</th>\n",
       "      <td>276</td>\n",
       "      <td>104871</td>\n",
       "      <td>2017-0301A201710109Auckland</td>\n",
       "    </tr>\n",
       "    <tr>\n",
       "      <th>185753</th>\n",
       "      <td>267</td>\n",
       "      <td>202467</td>\n",
       "      <td>2016-1079I201630711Bucharest</td>\n",
       "    </tr>\n",
       "    <tr>\n",
       "      <th>185755</th>\n",
       "      <td>275</td>\n",
       "      <td>214263</td>\n",
       "      <td>2019-2001C201941111Houston</td>\n",
       "    </tr>\n",
       "    <tr>\n",
       "      <th>185760</th>\n",
       "      <td>200</td>\n",
       "      <td>201474</td>\n",
       "      <td>2016-540G201620627Wimbledon</td>\n",
       "    </tr>\n",
       "  </tbody>\n",
       "</table>\n",
       "<p>81918 rows × 3 columns</p>\n",
       "</div>"
      ],
      "text/plain": [
       "        match_num  winner_id  \\\n",
       "1             287     201580   \n",
       "4             291     111575   \n",
       "6             293     201697   \n",
       "10              1     202604   \n",
       "12            208     200033   \n",
       "...           ...        ...   \n",
       "185751        249     106109   \n",
       "185752        276     104871   \n",
       "185753        267     202467   \n",
       "185755        275     214263   \n",
       "185760        200     201474   \n",
       "\n",
       "                                               tourney_pk  \n",
       "1                             2019-1094I201930715Lausanne  \n",
       "4                              2017-0414A201730724Hamburg  \n",
       "6                               2019-1101I201920408Lugano  \n",
       "10      2019-W-FC-2019-G1-EPA-B-PP5-8-GRE-TUR-01D20191...  \n",
       "12                            2018-540G201830702Wimbledon  \n",
       "...                                                   ...  \n",
       "185751                         2018-6116A201830723Atlanta  \n",
       "185752                        2017-0301A201710109Auckland  \n",
       "185753                       2016-1079I201630711Bucharest  \n",
       "185755                         2019-2001C201941111Houston  \n",
       "185760                        2016-540G201620627Wimbledon  \n",
       "\n",
       "[81918 rows x 3 columns]"
      ]
     },
     "execution_count": 100,
     "metadata": {},
     "output_type": "execute_result"
    }
   ],
   "source": [
    "match[['match_num','winner_id','tourney_pk']].drop_duplicates()"
   ]
  },
  {
   "cell_type": "code",
   "execution_count": null,
   "metadata": {},
   "outputs": [],
   "source": []
  },
  {
   "cell_type": "code",
   "execution_count": null,
   "metadata": {},
   "outputs": [],
   "source": []
  }
 ],
 "metadata": {
  "kernelspec": {
   "display_name": "Python 3",
   "language": "python",
   "name": "python3"
  },
  "language_info": {
   "codemirror_mode": {
    "name": "ipython",
    "version": 3
   },
   "file_extension": ".py",
   "mimetype": "text/x-python",
   "name": "python",
   "nbconvert_exporter": "python",
   "pygments_lexer": "ipython3",
   "version": "3.8.8"
  },
  "toc": {
   "base_numbering": 1,
   "nav_menu": {},
   "number_sections": true,
   "sideBar": true,
   "skip_h1_title": false,
   "title_cell": "Table of Contents",
   "title_sidebar": "Contents",
   "toc_cell": false,
   "toc_position": {},
   "toc_section_display": true,
   "toc_window_display": false
  },
  "varInspector": {
   "cols": {
    "lenName": 16,
    "lenType": 16,
    "lenVar": 40
   },
   "kernels_config": {
    "python": {
     "delete_cmd_postfix": "",
     "delete_cmd_prefix": "del ",
     "library": "var_list.py",
     "varRefreshCmd": "print(var_dic_list())"
    },
    "r": {
     "delete_cmd_postfix": ") ",
     "delete_cmd_prefix": "rm(",
     "library": "var_list.r",
     "varRefreshCmd": "cat(var_dic_list()) "
    }
   },
   "types_to_exclude": [
    "module",
    "function",
    "builtin_function_or_method",
    "instance",
    "_Feature"
   ],
   "window_display": false
  }
 },
 "nbformat": 4,
 "nbformat_minor": 2
}
