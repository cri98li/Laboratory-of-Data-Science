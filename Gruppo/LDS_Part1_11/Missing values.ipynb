{
 "cells": [
  {
   "cell_type": "markdown",
   "metadata": {},
   "source": [
    "# Gestione dei missing values"
   ]
  },
  {
   "cell_type": "code",
   "execution_count": 1,
   "metadata": {},
   "outputs": [],
   "source": [
    "import pandas as pd\n",
    "import numpy as np\n",
    "import seaborn as sns\n",
    "import matplotlib.pyplot as plt\n"
   ]
  },
  {
   "cell_type": "code",
   "execution_count": 2,
   "metadata": {},
   "outputs": [],
   "source": [
    "match = pd.read_csv('output/match.csv')\n",
    "tournament = pd.read_csv('output/tournament.csv')\n",
    "player = pd.read_csv('output/players.csv')\n",
    "\n",
    "match_originale = match.copy()\n",
    "tournament_originale = tournament.copy()\n",
    "player_originale = player.copy()"
   ]
  },
  {
   "cell_type": "code",
   "execution_count": 3,
   "metadata": {},
   "outputs": [
    {
     "data": {
      "text/plain": [
       "match_num                  0\n",
       "winner_id                  0\n",
       "loser_id                   0\n",
       "score                    169\n",
       "best_of                    0\n",
       "round                      0\n",
       "minutes               104430\n",
       "w_ace                 103782\n",
       "w_df                  103782\n",
       "w_svpt                103782\n",
       "w_1stIn               103782\n",
       "w_1stWon              103782\n",
       "w_2ndWon              103782\n",
       "w_SvGms               103778\n",
       "w_bpSaved             103782\n",
       "w_bpFaced             103782\n",
       "l_ace                 103782\n",
       "l_df                  103782\n",
       "l_svpt                103782\n",
       "l_1stIn               103782\n",
       "l_1stWon              103782\n",
       "l_2ndWon              103782\n",
       "l_SvGms               103778\n",
       "l_bpSaved             103782\n",
       "l_bpFaced             103782\n",
       "winner_rank            19372\n",
       "winner_rank_points     19388\n",
       "loser_rank             35232\n",
       "loser_rank_points      35248\n",
       "tourney_pk                 0\n",
       "dtype: int64"
      ]
     },
     "execution_count": 3,
     "metadata": {},
     "output_type": "execute_result"
    }
   ],
   "source": [
    "match.isna().sum()"
   ]
  },
  {
   "cell_type": "code",
   "execution_count": null,
   "metadata": {},
   "outputs": [],
   "source": []
  },
  {
   "cell_type": "code",
   "execution_count": 4,
   "metadata": {},
   "outputs": [
    {
     "data": {
      "text/html": [
       "<div>\n",
       "<style scoped>\n",
       "    .dataframe tbody tr th:only-of-type {\n",
       "        vertical-align: middle;\n",
       "    }\n",
       "\n",
       "    .dataframe tbody tr th {\n",
       "        vertical-align: top;\n",
       "    }\n",
       "\n",
       "    .dataframe thead th {\n",
       "        text-align: right;\n",
       "    }\n",
       "</style>\n",
       "<table border=\"1\" class=\"dataframe\">\n",
       "  <thead>\n",
       "    <tr style=\"text-align: right;\">\n",
       "      <th></th>\n",
       "      <th>match_num</th>\n",
       "      <th>winner_id</th>\n",
       "      <th>loser_id</th>\n",
       "      <th>best_of</th>\n",
       "      <th>minutes</th>\n",
       "      <th>w_ace</th>\n",
       "      <th>w_df</th>\n",
       "      <th>w_svpt</th>\n",
       "      <th>w_1stIn</th>\n",
       "      <th>w_1stWon</th>\n",
       "      <th>...</th>\n",
       "      <th>l_1stIn</th>\n",
       "      <th>l_1stWon</th>\n",
       "      <th>l_2ndWon</th>\n",
       "      <th>l_SvGms</th>\n",
       "      <th>l_bpSaved</th>\n",
       "      <th>l_bpFaced</th>\n",
       "      <th>winner_rank</th>\n",
       "      <th>winner_rank_points</th>\n",
       "      <th>loser_rank</th>\n",
       "      <th>loser_rank_points</th>\n",
       "    </tr>\n",
       "  </thead>\n",
       "  <tbody>\n",
       "    <tr>\n",
       "      <th>count</th>\n",
       "      <td>185764.000000</td>\n",
       "      <td>185764.000000</td>\n",
       "      <td>185764.000000</td>\n",
       "      <td>185764.000000</td>\n",
       "      <td>81334.000000</td>\n",
       "      <td>81982.000000</td>\n",
       "      <td>81982.000000</td>\n",
       "      <td>81982.000000</td>\n",
       "      <td>81982.000000</td>\n",
       "      <td>81982.000000</td>\n",
       "      <td>...</td>\n",
       "      <td>81982.000000</td>\n",
       "      <td>81982.000000</td>\n",
       "      <td>81982.000000</td>\n",
       "      <td>81986.000000</td>\n",
       "      <td>81982.000000</td>\n",
       "      <td>81982.000000</td>\n",
       "      <td>166392.000000</td>\n",
       "      <td>166376.000000</td>\n",
       "      <td>150532.000000</td>\n",
       "      <td>150516.000000</td>\n",
       "    </tr>\n",
       "    <tr>\n",
       "      <th>mean</th>\n",
       "      <td>160.464175</td>\n",
       "      <td>180105.888068</td>\n",
       "      <td>181613.891987</td>\n",
       "      <td>3.034162</td>\n",
       "      <td>97.695269</td>\n",
       "      <td>4.823388</td>\n",
       "      <td>2.855907</td>\n",
       "      <td>71.297004</td>\n",
       "      <td>44.270901</td>\n",
       "      <td>32.142848</td>\n",
       "      <td>...</td>\n",
       "      <td>44.565112</td>\n",
       "      <td>28.046169</td>\n",
       "      <td>12.715657</td>\n",
       "      <td>10.942612</td>\n",
       "      <td>4.658608</td>\n",
       "      <td>8.864238</td>\n",
       "      <td>383.957919</td>\n",
       "      <td>470.958107</td>\n",
       "      <td>434.321320</td>\n",
       "      <td>356.754518</td>\n",
       "    </tr>\n",
       "    <tr>\n",
       "      <th>std</th>\n",
       "      <td>289.562750</td>\n",
       "      <td>46571.821798</td>\n",
       "      <td>46645.664816</td>\n",
       "      <td>0.259146</td>\n",
       "      <td>41.516997</td>\n",
       "      <td>4.389558</td>\n",
       "      <td>2.420502</td>\n",
       "      <td>25.530921</td>\n",
       "      <td>16.950740</td>\n",
       "      <td>11.414119</td>\n",
       "      <td>...</td>\n",
       "      <td>16.777904</td>\n",
       "      <td>12.274711</td>\n",
       "      <td>6.322835</td>\n",
       "      <td>3.499454</td>\n",
       "      <td>3.148033</td>\n",
       "      <td>3.967422</td>\n",
       "      <td>314.201072</td>\n",
       "      <td>1041.945639</td>\n",
       "      <td>355.975553</td>\n",
       "      <td>703.270209</td>\n",
       "    </tr>\n",
       "    <tr>\n",
       "      <th>min</th>\n",
       "      <td>1.000000</td>\n",
       "      <td>100644.000000</td>\n",
       "      <td>100644.000000</td>\n",
       "      <td>3.000000</td>\n",
       "      <td>0.000000</td>\n",
       "      <td>0.000000</td>\n",
       "      <td>0.000000</td>\n",
       "      <td>0.000000</td>\n",
       "      <td>0.000000</td>\n",
       "      <td>0.000000</td>\n",
       "      <td>...</td>\n",
       "      <td>0.000000</td>\n",
       "      <td>0.000000</td>\n",
       "      <td>0.000000</td>\n",
       "      <td>0.000000</td>\n",
       "      <td>0.000000</td>\n",
       "      <td>0.000000</td>\n",
       "      <td>1.000000</td>\n",
       "      <td>1.000000</td>\n",
       "      <td>1.000000</td>\n",
       "      <td>1.000000</td>\n",
       "    </tr>\n",
       "    <tr>\n",
       "      <th>25%</th>\n",
       "      <td>17.000000</td>\n",
       "      <td>122330.000000</td>\n",
       "      <td>124079.000000</td>\n",
       "      <td>3.000000</td>\n",
       "      <td>72.000000</td>\n",
       "      <td>2.000000</td>\n",
       "      <td>1.000000</td>\n",
       "      <td>53.000000</td>\n",
       "      <td>33.000000</td>\n",
       "      <td>24.000000</td>\n",
       "      <td>...</td>\n",
       "      <td>33.000000</td>\n",
       "      <td>19.000000</td>\n",
       "      <td>8.000000</td>\n",
       "      <td>9.000000</td>\n",
       "      <td>2.000000</td>\n",
       "      <td>6.000000</td>\n",
       "      <td>137.000000</td>\n",
       "      <td>49.000000</td>\n",
       "      <td>156.000000</td>\n",
       "      <td>35.000000</td>\n",
       "    </tr>\n",
       "    <tr>\n",
       "      <th>50%</th>\n",
       "      <td>130.000000</td>\n",
       "      <td>203526.000000</td>\n",
       "      <td>205815.000000</td>\n",
       "      <td>3.000000</td>\n",
       "      <td>91.000000</td>\n",
       "      <td>4.000000</td>\n",
       "      <td>2.000000</td>\n",
       "      <td>67.000000</td>\n",
       "      <td>42.000000</td>\n",
       "      <td>30.000000</td>\n",
       "      <td>...</td>\n",
       "      <td>42.000000</td>\n",
       "      <td>26.000000</td>\n",
       "      <td>12.000000</td>\n",
       "      <td>10.000000</td>\n",
       "      <td>4.000000</td>\n",
       "      <td>8.000000</td>\n",
       "      <td>298.000000</td>\n",
       "      <td>161.000000</td>\n",
       "      <td>325.000000</td>\n",
       "      <td>138.000000</td>\n",
       "    </tr>\n",
       "    <tr>\n",
       "      <th>75%</th>\n",
       "      <td>272.000000</td>\n",
       "      <td>214152.000000</td>\n",
       "      <td>214818.000000</td>\n",
       "      <td>3.000000</td>\n",
       "      <td>119.000000</td>\n",
       "      <td>7.000000</td>\n",
       "      <td>4.000000</td>\n",
       "      <td>87.000000</td>\n",
       "      <td>54.000000</td>\n",
       "      <td>38.000000</td>\n",
       "      <td>...</td>\n",
       "      <td>54.000000</td>\n",
       "      <td>35.000000</td>\n",
       "      <td>16.000000</td>\n",
       "      <td>13.000000</td>\n",
       "      <td>6.000000</td>\n",
       "      <td>11.000000</td>\n",
       "      <td>562.000000</td>\n",
       "      <td>439.000000</td>\n",
       "      <td>642.000000</td>\n",
       "      <td>378.000000</td>\n",
       "    </tr>\n",
       "    <tr>\n",
       "      <th>max</th>\n",
       "      <td>8312.000000</td>\n",
       "      <td>245099.000000</td>\n",
       "      <td>245099.000000</td>\n",
       "      <td>5.000000</td>\n",
       "      <td>4756.000000</td>\n",
       "      <td>75.000000</td>\n",
       "      <td>114.000000</td>\n",
       "      <td>1957.000000</td>\n",
       "      <td>1330.000000</td>\n",
       "      <td>836.000000</td>\n",
       "      <td>...</td>\n",
       "      <td>893.000000</td>\n",
       "      <td>532.000000</td>\n",
       "      <td>399.000000</td>\n",
       "      <td>50.000000</td>\n",
       "      <td>120.000000</td>\n",
       "      <td>190.000000</td>\n",
       "      <td>2220.000000</td>\n",
       "      <td>16950.000000</td>\n",
       "      <td>2257.000000</td>\n",
       "      <td>16950.000000</td>\n",
       "    </tr>\n",
       "  </tbody>\n",
       "</table>\n",
       "<p>8 rows × 27 columns</p>\n",
       "</div>"
      ],
      "text/plain": [
       "           match_num      winner_id       loser_id        best_of  \\\n",
       "count  185764.000000  185764.000000  185764.000000  185764.000000   \n",
       "mean      160.464175  180105.888068  181613.891987       3.034162   \n",
       "std       289.562750   46571.821798   46645.664816       0.259146   \n",
       "min         1.000000  100644.000000  100644.000000       3.000000   \n",
       "25%        17.000000  122330.000000  124079.000000       3.000000   \n",
       "50%       130.000000  203526.000000  205815.000000       3.000000   \n",
       "75%       272.000000  214152.000000  214818.000000       3.000000   \n",
       "max      8312.000000  245099.000000  245099.000000       5.000000   \n",
       "\n",
       "            minutes         w_ace          w_df        w_svpt       w_1stIn  \\\n",
       "count  81334.000000  81982.000000  81982.000000  81982.000000  81982.000000   \n",
       "mean      97.695269      4.823388      2.855907     71.297004     44.270901   \n",
       "std       41.516997      4.389558      2.420502     25.530921     16.950740   \n",
       "min        0.000000      0.000000      0.000000      0.000000      0.000000   \n",
       "25%       72.000000      2.000000      1.000000     53.000000     33.000000   \n",
       "50%       91.000000      4.000000      2.000000     67.000000     42.000000   \n",
       "75%      119.000000      7.000000      4.000000     87.000000     54.000000   \n",
       "max     4756.000000     75.000000    114.000000   1957.000000   1330.000000   \n",
       "\n",
       "           w_1stWon  ...       l_1stIn      l_1stWon      l_2ndWon  \\\n",
       "count  81982.000000  ...  81982.000000  81982.000000  81982.000000   \n",
       "mean      32.142848  ...     44.565112     28.046169     12.715657   \n",
       "std       11.414119  ...     16.777904     12.274711      6.322835   \n",
       "min        0.000000  ...      0.000000      0.000000      0.000000   \n",
       "25%       24.000000  ...     33.000000     19.000000      8.000000   \n",
       "50%       30.000000  ...     42.000000     26.000000     12.000000   \n",
       "75%       38.000000  ...     54.000000     35.000000     16.000000   \n",
       "max      836.000000  ...    893.000000    532.000000    399.000000   \n",
       "\n",
       "            l_SvGms     l_bpSaved     l_bpFaced    winner_rank  \\\n",
       "count  81986.000000  81982.000000  81982.000000  166392.000000   \n",
       "mean      10.942612      4.658608      8.864238     383.957919   \n",
       "std        3.499454      3.148033      3.967422     314.201072   \n",
       "min        0.000000      0.000000      0.000000       1.000000   \n",
       "25%        9.000000      2.000000      6.000000     137.000000   \n",
       "50%       10.000000      4.000000      8.000000     298.000000   \n",
       "75%       13.000000      6.000000     11.000000     562.000000   \n",
       "max       50.000000    120.000000    190.000000    2220.000000   \n",
       "\n",
       "       winner_rank_points     loser_rank  loser_rank_points  \n",
       "count       166376.000000  150532.000000      150516.000000  \n",
       "mean           470.958107     434.321320         356.754518  \n",
       "std           1041.945639     355.975553         703.270209  \n",
       "min              1.000000       1.000000           1.000000  \n",
       "25%             49.000000     156.000000          35.000000  \n",
       "50%            161.000000     325.000000         138.000000  \n",
       "75%            439.000000     642.000000         378.000000  \n",
       "max          16950.000000    2257.000000       16950.000000  \n",
       "\n",
       "[8 rows x 27 columns]"
      ]
     },
     "execution_count": 4,
     "metadata": {},
     "output_type": "execute_result"
    }
   ],
   "source": [
    "match.describe()"
   ]
  },
  {
   "cell_type": "code",
   "execution_count": null,
   "metadata": {},
   "outputs": [],
   "source": []
  },
  {
   "cell_type": "markdown",
   "metadata": {},
   "source": [
    "## Eliminazione sottogruppo nullo"
   ]
  },
  {
   "cell_type": "code",
   "execution_count": 5,
   "metadata": {},
   "outputs": [],
   "source": [
    "match = match.dropna(subset=['w_ace'])\n",
    "match_originale = match_originale.dropna(subset=['w_ace']) #Aggiorno anche il riferimento ai dati originali vista la quantità"
   ]
  },
  {
   "cell_type": "code",
   "execution_count": 6,
   "metadata": {},
   "outputs": [
    {
     "data": {
      "text/plain": [
       "match_num                0\n",
       "winner_id                0\n",
       "loser_id                 0\n",
       "score                    0\n",
       "best_of                  0\n",
       "round                    0\n",
       "minutes                801\n",
       "w_ace                    0\n",
       "w_df                     0\n",
       "w_svpt                   0\n",
       "w_1stIn                  0\n",
       "w_1stWon                 0\n",
       "w_2ndWon                 0\n",
       "w_SvGms                  0\n",
       "w_bpSaved                0\n",
       "w_bpFaced                0\n",
       "l_ace                    0\n",
       "l_df                     0\n",
       "l_svpt                   0\n",
       "l_1stIn                  0\n",
       "l_1stWon                 0\n",
       "l_2ndWon                 0\n",
       "l_SvGms                  0\n",
       "l_bpSaved                0\n",
       "l_bpFaced                0\n",
       "winner_rank            899\n",
       "winner_rank_points     913\n",
       "loser_rank            3123\n",
       "loser_rank_points     3138\n",
       "tourney_pk               0\n",
       "dtype: int64"
      ]
     },
     "execution_count": 6,
     "metadata": {},
     "output_type": "execute_result"
    }
   ],
   "source": [
    "match.isna().sum()"
   ]
  },
  {
   "cell_type": "markdown",
   "metadata": {},
   "source": [
    "## Gestione dei rank"
   ]
  },
  {
   "cell_type": "code",
   "execution_count": 7,
   "metadata": {},
   "outputs": [
    {
     "data": {
      "image/png": "[encoded data removed]",
      "text/plain": [
       "<Figure size 432x288 with 1 Axes>"
      ]
     },
     "metadata": {
      "needs_background": "light"
     },
     "output_type": "display_data"
    }
   ],
   "source": [
    "sns.kdeplot(data=match, x=\"winner_rank\")\n",
    "plt.axvline(np.mean(match.winner_rank), linestyle='dashed', linewidth=2, c='r', label='media')\n",
    "plt.axvline(np.nanmedian(match.winner_rank), linestyle='dashed', linewidth=2, c='g', label='mediana')\n",
    "plt.legend()\n",
    "plt.show()"
   ]
  },
  {
   "cell_type": "code",
   "execution_count": 8,
   "metadata": {},
   "outputs": [
    {
     "data": {
      "text/plain": [
       "<AxesSubplot:xlabel='winner_rank_points', ylabel='Density'>"
      ]
     },
     "execution_count": 8,
     "metadata": {},
     "output_type": "execute_result"
    },
    {
     "data": {
      "image/png": "[encoded data removed]",
      "text/plain": [
       "<Figure size 432x288 with 1 Axes>"
      ]
     },
     "metadata": {
      "needs_background": "light"
     },
     "output_type": "display_data"
    }
   ],
   "source": [
    "sns.kdeplot(data=match, x=\"winner_rank_points\")"
   ]
  },
  {
   "cell_type": "code",
   "execution_count": 9,
   "metadata": {},
   "outputs": [
    {
     "data": {
      "text/plain": [
       "<AxesSubplot:xlabel='loser_rank', ylabel='Density'>"
      ]
     },
     "execution_count": 9,
     "metadata": {},
     "output_type": "execute_result"
    },
    {
     "data": {
      "image/png": "[encoded data removed]",
      "text/plain": [
       "<Figure size 432x288 with 1 Axes>"
      ]
     },
     "metadata": {
      "needs_background": "light"
     },
     "output_type": "display_data"
    }
   ],
   "source": [
    "sns.kdeplot(data=match, x=\"loser_rank\")"
   ]
  },
  {
   "cell_type": "code",
   "execution_count": 10,
   "metadata": {},
   "outputs": [
    {
     "data": {
      "text/plain": [
       "<AxesSubplot:xlabel='loser_rank_points', ylabel='Density'>"
      ]
     },
     "execution_count": 10,
     "metadata": {},
     "output_type": "execute_result"
    },
    {
     "data": {
      "image/png": "[encoded data removed]",
      "text/plain": [
       "<Figure size 432x288 with 1 Axes>"
      ]
     },
     "metadata": {
      "needs_background": "light"
     },
     "output_type": "display_data"
    }
   ],
   "source": [
    "sns.kdeplot(data=match, x=\"loser_rank_points\")"
   ]
  },
  {
   "cell_type": "code",
   "execution_count": 11,
   "metadata": {},
   "outputs": [
    {
     "data": {
      "text/plain": [
       "<AxesSubplot:xlabel='minutes', ylabel='Density'>"
      ]
     },
     "execution_count": 11,
     "metadata": {},
     "output_type": "execute_result"
    },
    {
     "data": {
      "image/png": "[encoded data removed]",
      "text/plain": [
       "<Figure size 432x288 with 1 Axes>"
      ]
     },
     "metadata": {
      "needs_background": "light"
     },
     "output_type": "display_data"
    }
   ],
   "source": [
    "sns.kdeplot(data=match, x=\"minutes\")"
   ]
  },
  {
   "cell_type": "code",
   "execution_count": 12,
   "metadata": {},
   "outputs": [
    {
     "data": {
      "text/plain": [
       "17217     1146.0\n",
       "31074     1211.0\n",
       "62894      987.0\n",
       "65112     1266.0\n",
       "77023     1507.0\n",
       "79683     4756.0\n",
       "80308     1392.0\n",
       "86858     1531.0\n",
       "96032      814.0\n",
       "101245     510.0\n",
       "117831     740.0\n",
       "159808    2475.0\n",
       "162629    1094.0\n",
       "165792    1241.0\n",
       "166278    1237.0\n",
       "175092     563.0\n",
       "Name: minutes, dtype: float64"
      ]
     },
     "execution_count": 12,
     "metadata": {},
     "output_type": "execute_result"
    }
   ],
   "source": [
    "match[match.minutes > 500]['minutes'] #outliers"
   ]
  },
  {
   "cell_type": "code",
   "execution_count": 13,
   "metadata": {},
   "outputs": [
    {
     "data": {
      "text/plain": [
       "<AxesSubplot:xlabel='minutes', ylabel='Density'>"
      ]
     },
     "execution_count": 13,
     "metadata": {},
     "output_type": "execute_result"
    },
    {
     "data": {
      "image/png": "[encoded data removed]",
      "text/plain": [
       "<Figure size 432x288 with 1 Axes>"
      ]
     },
     "metadata": {
      "needs_background": "light"
     },
     "output_type": "display_data"
    }
   ],
   "source": [
    "sns.kdeplot(data=match[match.minutes < 500], x=\"minutes\")"
   ]
  },
  {
   "cell_type": "code",
   "execution_count": null,
   "metadata": {},
   "outputs": [],
   "source": []
  },
  {
   "cell_type": "code",
   "execution_count": 14,
   "metadata": {},
   "outputs": [],
   "source": [
    "match['winner_rank'] = match.groupby('winner_id')['winner_rank'].apply(lambda x: x.ffill().bfill())\n",
    "match['winner_rank'] = match.winner_rank.fillna(int(np.nanmedian(match.winner_rank)))\n",
    "\n",
    "match['winner_rank_points'] = match.groupby('winner_id')['winner_rank_points'].apply(lambda x: x.ffill().bfill())\n",
    "match['winner_rank_points'] = match.winner_rank_points.fillna(int(np.nanmedian(match.winner_rank_points)))\n",
    "\n",
    "match['loser_rank'] = match.groupby('loser_id')['loser_rank'].apply(lambda x: x.ffill().bfill())\n",
    "match['loser_rank'] = match.loser_rank.fillna(int(np.nanmedian(match.loser_rank)))\n",
    "\n",
    "match['loser_rank_points'] = match.groupby('loser_id')['loser_rank_points'].apply(lambda x: x.ffill().bfill())\n",
    "match['loser_rank_points'] = match.loser_rank_points.fillna(int(np.nanmedian(match.loser_rank_points)))\n",
    "\n",
    "match['minutes'] = match.groupby('tourney_pk')['minutes'].apply(lambda x: x.ffill().bfill())\n",
    "match = match.dropna(subset=['minutes'])\n",
    "\n",
    "match = match.astype({\"minutes\": int, \"w_ace\": int, \"w_df\": int, \"w_svpt\": int,\n",
    "                      \"w_1stIn\": int, \"w_1stWon\": int, \"w_2ndWon\": int, \"w_SvGms\": int,\n",
    "                      \"w_bpSaved\": int, \"w_bpFaced\": int, \"l_ace\": int, \"l_df\": int,\n",
    "                      \"l_svpt\": int, \"l_1stIn\": int, \"l_1stWon\": int, \"l_2ndWon\": int,\n",
    "                      \"l_SvGms\": int, \"l_bpSaved\": int, \"l_bpFaced\": int, \"winner_rank\": int,\n",
    "                      \"winner_rank_points\": int, \"loser_rank\": int, \"loser_rank_points\": int})"
   ]
  },
  {
   "cell_type": "code",
   "execution_count": 15,
   "metadata": {},
   "outputs": [
    {
     "data": {
      "text/plain": [
       "<AxesSubplot:>"
      ]
     },
     "execution_count": 15,
     "metadata": {},
     "output_type": "execute_result"
    },
    {
     "data": {
      "image/png": "[encoded data removed]",
      "text/plain": [
       "<Figure size 432x288 with 1 Axes>"
      ]
     },
     "metadata": {
      "needs_background": "light"
     },
     "output_type": "display_data"
    }
   ],
   "source": [
    "match['winner_rank'].hist(bins=20)\n",
    "match_originale['winner_rank'].hist(bins=20)"
   ]
  },
  {
   "cell_type": "code",
   "execution_count": 16,
   "metadata": {},
   "outputs": [
    {
     "data": {
      "text/plain": [
       "<matplotlib.legend.Legend at 0x195c44e07c8>"
      ]
     },
     "execution_count": 16,
     "metadata": {},
     "output_type": "execute_result"
    },
    {
     "data": {
      "image/png": "[encoded data removed]",
      "text/plain": [
       "<Figure size 432x288 with 1 Axes>"
      ]
     },
     "metadata": {
      "needs_background": "light"
     },
     "output_type": "display_data"
    }
   ],
   "source": [
    "sns.kdeplot(data=match['winner_rank'], label='new')\n",
    "sns.kdeplot(data=match_originale['winner_rank'], label='old')\n",
    "plt.legend()"
   ]
  },
  {
   "cell_type": "code",
   "execution_count": null,
   "metadata": {},
   "outputs": [],
   "source": []
  },
  {
   "cell_type": "code",
   "execution_count": 17,
   "metadata": {},
   "outputs": [
    {
     "data": {
      "text/plain": [
       "<AxesSubplot:>"
      ]
     },
     "execution_count": 17,
     "metadata": {},
     "output_type": "execute_result"
    },
    {
     "data": {
      "image/png": "[encoded data removed]",
      "text/plain": [
       "<Figure size 432x288 with 1 Axes>"
      ]
     },
     "metadata": {
      "needs_background": "light"
     },
     "output_type": "display_data"
    }
   ],
   "source": [
    "match['winner_rank_points'].hist(bins=20)\n",
    "match_originale['winner_rank_points'].hist(bins=20)"
   ]
  },
  {
   "cell_type": "code",
   "execution_count": 18,
   "metadata": {},
   "outputs": [
    {
     "data": {
      "text/plain": [
       "<matplotlib.legend.Legend at 0x195c43f6d88>"
      ]
     },
     "execution_count": 18,
     "metadata": {},
     "output_type": "execute_result"
    },
    {
     "data": {
      "image/png": "[encoded data removed]",
      "text/plain": [
       "<Figure size 432x288 with 1 Axes>"
      ]
     },
     "metadata": {
      "needs_background": "light"
     },
     "output_type": "display_data"
    }
   ],
   "source": [
    "sns.kdeplot(data=match['winner_rank_points'], label='new')\n",
    "sns.kdeplot(data=match_originale['winner_rank_points'], label='old')\n",
    "plt.legend()"
   ]
  },
  {
   "cell_type": "code",
   "execution_count": null,
   "metadata": {},
   "outputs": [],
   "source": []
  },
  {
   "cell_type": "code",
   "execution_count": 19,
   "metadata": {},
   "outputs": [
    {
     "data": {
      "text/plain": [
       "<AxesSubplot:>"
      ]
     },
     "execution_count": 19,
     "metadata": {},
     "output_type": "execute_result"
    },
    {
     "data": {
      "image/png": "[encoded data removed]",
      "text/plain": [
       "<Figure size 432x288 with 1 Axes>"
      ]
     },
     "metadata": {
      "needs_background": "light"
     },
     "output_type": "display_data"
    }
   ],
   "source": [
    "match['loser_rank_points'].hist(bins=20)\n",
    "match_originale['loser_rank_points'].hist(bins=20)"
   ]
  },
  {
   "cell_type": "code",
   "execution_count": 20,
   "metadata": {},
   "outputs": [
    {
     "data": {
      "text/plain": [
       "<matplotlib.legend.Legend at 0x195c3cfd488>"
      ]
     },
     "execution_count": 20,
     "metadata": {},
     "output_type": "execute_result"
    },
    {
     "data": {
      "image/png": "[encoded data removed]",
      "text/plain": [
       "<Figure size 432x288 with 1 Axes>"
      ]
     },
     "metadata": {
      "needs_background": "light"
     },
     "output_type": "display_data"
    }
   ],
   "source": [
    "sns.kdeplot(data=match['loser_rank_points'], label='new')\n",
    "sns.kdeplot(data=match_originale['loser_rank_points'], label='old')\n",
    "plt.legend()"
   ]
  },
  {
   "cell_type": "code",
   "execution_count": null,
   "metadata": {},
   "outputs": [],
   "source": []
  },
  {
   "cell_type": "code",
   "execution_count": 21,
   "metadata": {},
   "outputs": [
    {
     "data": {
      "text/plain": [
       "<AxesSubplot:>"
      ]
     },
     "execution_count": 21,
     "metadata": {},
     "output_type": "execute_result"
    },
    {
     "data": {
      "image/png": "[encoded data removed]",
      "text/plain": [
       "<Figure size 432x288 with 1 Axes>"
      ]
     },
     "metadata": {
      "needs_background": "light"
     },
     "output_type": "display_data"
    }
   ],
   "source": [
    "match['loser_rank'].hist(bins=20)\n",
    "match_originale['loser_rank'].hist(bins=20)"
   ]
  },
  {
   "cell_type": "code",
   "execution_count": 22,
   "metadata": {},
   "outputs": [
    {
     "data": {
      "text/plain": [
       "<matplotlib.legend.Legend at 0x195c3b696c8>"
      ]
     },
     "execution_count": 22,
     "metadata": {},
     "output_type": "execute_result"
    },
    {
     "data": {
      "image/png": "[encoded data removed]",
      "text/plain": [
       "<Figure size 432x288 with 1 Axes>"
      ]
     },
     "metadata": {
      "needs_background": "light"
     },
     "output_type": "display_data"
    }
   ],
   "source": [
    "sns.kdeplot(data=match['loser_rank'], label='new')\n",
    "sns.kdeplot(data=match_originale['loser_rank'], label='old')\n",
    "plt.legend()"
   ]
  },
  {
   "cell_type": "markdown",
   "metadata": {},
   "source": [
    "## Player - gestione hand, ht e year_of_birth"
   ]
  },
  {
   "cell_type": "code",
   "execution_count": 23,
   "metadata": {},
   "outputs": [],
   "source": [
    "#outlier\n",
    "player_originale.loc[player_originale.ht < 100, 'ht'] = None\n",
    "player.loc[player.ht < 100, 'ht'] = None"
   ]
  },
  {
   "cell_type": "code",
   "execution_count": 24,
   "metadata": {},
   "outputs": [
    {
     "data": {
      "text/plain": [
       "<AxesSubplot:xlabel='ht', ylabel='Density'>"
      ]
     },
     "execution_count": 24,
     "metadata": {},
     "output_type": "execute_result"
    },
    {
     "data": {
      "image/png": "[encoded data removed]",
      "text/plain": [
       "<Figure size 432x288 with 1 Axes>"
      ]
     },
     "metadata": {
      "needs_background": "light"
     },
     "output_type": "display_data"
    }
   ],
   "source": [
    "sns.kdeplot(data=player, x=\"ht\", hue=\"sex\")"
   ]
  },
  {
   "cell_type": "code",
   "execution_count": 25,
   "metadata": {},
   "outputs": [
    {
     "data": {
      "text/plain": [
       "player_id           0\n",
       "country_id          0\n",
       "name                0\n",
       "sex                 0\n",
       "hand               33\n",
       "ht               9552\n",
       "year_of_birth    2108\n",
       "dtype: int64"
      ]
     },
     "execution_count": 25,
     "metadata": {},
     "output_type": "execute_result"
    }
   ],
   "source": [
    "player.loc[player.year_of_birth < 1, 'year_of_birth'] = None\n",
    "player_originale.loc[player_originale.year_of_birth < 1, 'year_of_birth'] = None\n",
    "\n",
    "player.isna().sum()"
   ]
  },
  {
   "cell_type": "code",
   "execution_count": 26,
   "metadata": {},
   "outputs": [],
   "source": [
    "player['hand'] = player.hand.fillna('U')\n",
    "player['ht'] = player.groupby(['sex'])['ht'].apply(lambda x: x.ffill().bfill())"
   ]
  },
  {
   "cell_type": "code",
   "execution_count": 27,
   "metadata": {},
   "outputs": [
    {
     "data": {
      "text/plain": [
       "<AxesSubplot:>"
      ]
     },
     "execution_count": 27,
     "metadata": {},
     "output_type": "execute_result"
    },
    {
     "data": {
      "image/png": "[encoded data removed]",
      "text/plain": [
       "<Figure size 432x288 with 1 Axes>"
      ]
     },
     "metadata": {
      "needs_background": "light"
     },
     "output_type": "display_data"
    }
   ],
   "source": [
    "player['hand'].value_counts(dropna=False).plot(kind=\"bar\")\n",
    "player_originale['hand'].value_counts(dropna=False).plot(kind=\"bar\")"
   ]
  },
  {
   "cell_type": "code",
   "execution_count": 28,
   "metadata": {},
   "outputs": [
    {
     "data": {
      "text/plain": [
       "<AxesSubplot:>"
      ]
     },
     "execution_count": 28,
     "metadata": {},
     "output_type": "execute_result"
    },
    {
     "data": {
      "image/png": "[encoded data removed]",
      "text/plain": [
       "<Figure size 432x288 with 1 Axes>"
      ]
     },
     "metadata": {
      "needs_background": "light"
     },
     "output_type": "display_data"
    }
   ],
   "source": [
    "player['ht'][player.sex == \"male\"].hist()\n",
    "player_originale['ht'][player.sex == \"male\"].hist()"
   ]
  },
  {
   "cell_type": "code",
   "execution_count": 29,
   "metadata": {},
   "outputs": [
    {
     "data": {
      "text/plain": [
       "<matplotlib.legend.Legend at 0x195c3e92908>"
      ]
     },
     "execution_count": 29,
     "metadata": {},
     "output_type": "execute_result"
    },
    {
     "data": {
      "image/png": "[encoded data removed]",
      "text/plain": [
       "<Figure size 432x288 with 1 Axes>"
      ]
     },
     "metadata": {
      "needs_background": "light"
     },
     "output_type": "display_data"
    }
   ],
   "source": [
    "sns.kdeplot(data=player['ht'][player.sex == \"male\"], label='new')\n",
    "sns.kdeplot(data=player_originale['ht'][player.sex == \"male\"], label='old')\n",
    "plt.legend()"
   ]
  },
  {
   "cell_type": "code",
   "execution_count": null,
   "metadata": {},
   "outputs": [],
   "source": []
  },
  {
   "cell_type": "code",
   "execution_count": 30,
   "metadata": {},
   "outputs": [
    {
     "data": {
      "text/plain": [
       "<AxesSubplot:>"
      ]
     },
     "execution_count": 30,
     "metadata": {},
     "output_type": "execute_result"
    },
    {
     "data": {
      "image/png": "[encoded data removed]",
      "text/plain": [
       "<Figure size 432x288 with 1 Axes>"
      ]
     },
     "metadata": {
      "needs_background": "light"
     },
     "output_type": "display_data"
    }
   ],
   "source": [
    "player['ht'][player.sex != \"male\"].hist()\n",
    "player_originale['ht'][player.sex != \"male\"].hist()"
   ]
  },
  {
   "cell_type": "code",
   "execution_count": 31,
   "metadata": {},
   "outputs": [
    {
     "data": {
      "text/plain": [
       "<matplotlib.legend.Legend at 0x195c41bd4c8>"
      ]
     },
     "execution_count": 31,
     "metadata": {},
     "output_type": "execute_result"
    },
    {
     "data": {
      "image/png": "[encoded data removed]",
      "text/plain": [
       "<Figure size 432x288 with 1 Axes>"
      ]
     },
     "metadata": {
      "needs_background": "light"
     },
     "output_type": "display_data"
    }
   ],
   "source": [
    "sns.kdeplot(data=player['ht'][player.sex != \"male\"], label='new')\n",
    "sns.kdeplot(data=player_originale['ht'][player.sex != \"male\"], label='old')\n",
    "plt.legend()"
   ]
  },
  {
   "cell_type": "code",
   "execution_count": null,
   "metadata": {},
   "outputs": [],
   "source": []
  },
  {
   "cell_type": "code",
   "execution_count": 32,
   "metadata": {},
   "outputs": [
    {
     "data": {
      "text/plain": [
       "<AxesSubplot:>"
      ]
     },
     "execution_count": 32,
     "metadata": {},
     "output_type": "execute_result"
    },
    {
     "data": {
      "image/png": "[encoded data removed]",
      "text/plain": [
       "<Figure size 432x288 with 1 Axes>"
      ]
     },
     "metadata": {
      "needs_background": "light"
     },
     "output_type": "display_data"
    }
   ],
   "source": [
    "player['year_of_birth'].hist()"
   ]
  },
  {
   "cell_type": "code",
   "execution_count": 33,
   "metadata": {},
   "outputs": [
    {
     "data": {
      "text/plain": [
       "<AxesSubplot:>"
      ]
     },
     "execution_count": 33,
     "metadata": {},
     "output_type": "execute_result"
    },
    {
     "data": {
      "image/png": "[encoded data removed]",
      "text/plain": [
       "<Figure size 432x288 with 1 Axes>"
      ]
     },
     "metadata": {
      "needs_background": "light"
     },
     "output_type": "display_data"
    }
   ],
   "source": [
    "player['year_of_birth'] = player.year_of_birth.ffill().bfill()\n",
    "\n",
    "player['year_of_birth'].hist()\n",
    "player_originale['year_of_birth'].hist()"
   ]
  },
  {
   "cell_type": "code",
   "execution_count": 34,
   "metadata": {},
   "outputs": [
    {
     "data": {
      "text/plain": [
       "<matplotlib.legend.Legend at 0x195c46b2108>"
      ]
     },
     "execution_count": 34,
     "metadata": {},
     "output_type": "execute_result"
    },
    {
     "data": {
      "image/png": "[encoded data removed]",
      "text/plain": [
       "<Figure size 432x288 with 1 Axes>"
      ]
     },
     "metadata": {
      "needs_background": "light"
     },
     "output_type": "display_data"
    }
   ],
   "source": [
    "sns.kdeplot(data=player['year_of_birth'], label='new')\n",
    "sns.kdeplot(data=player_originale['year_of_birth'], label='old')\n",
    "plt.legend()"
   ]
  },
  {
   "cell_type": "code",
   "execution_count": 35,
   "metadata": {},
   "outputs": [],
   "source": [
    "player = player.astype({\"ht\": int, \"year_of_birth\": int})"
   ]
  },
  {
   "cell_type": "markdown",
   "metadata": {},
   "source": [
    "## Tournament - gestione surface "
   ]
  },
  {
   "cell_type": "code",
   "execution_count": 36,
   "metadata": {},
   "outputs": [
    {
     "data": {
      "text/plain": [
       "tourney_pk             0\n",
       "tourney_id             0\n",
       "date_id                0\n",
       "tourney_name           0\n",
       "surface               62\n",
       "draw_size              0\n",
       "tourney_level          0\n",
       "tourney_spectators     0\n",
       "tourney_revenue        0\n",
       "dtype: int64"
      ]
     },
     "execution_count": 36,
     "metadata": {},
     "output_type": "execute_result"
    }
   ],
   "source": [
    "tournament.isna().sum()"
   ]
  },
  {
   "cell_type": "code",
   "execution_count": 37,
   "metadata": {},
   "outputs": [],
   "source": [
    "tournament['surface'] = tournament.groupby('tourney_name')['surface'].apply(lambda x: x.ffill().bfill())\n",
    "tournament['surface'] = tournament.surface.fillna('Hard')"
   ]
  },
  {
   "cell_type": "code",
   "execution_count": 38,
   "metadata": {},
   "outputs": [
    {
     "data": {
      "text/plain": [
       "<AxesSubplot:>"
      ]
     },
     "execution_count": 38,
     "metadata": {},
     "output_type": "execute_result"
    },
    {
     "data": {
      "image/png": "[encoded data removed]",
      "text/plain": [
       "<Figure size 432x288 with 1 Axes>"
      ]
     },
     "metadata": {
      "needs_background": "light"
     },
     "output_type": "display_data"
    }
   ],
   "source": [
    "tournament_originale.surface.value_counts(dropna=False).plot(kind=\"bar\")\n",
    "tournament.surface.value_counts().plot(kind=\"bar\")\n"
   ]
  },
  {
   "cell_type": "code",
   "execution_count": null,
   "metadata": {},
   "outputs": [],
   "source": []
  },
  {
   "cell_type": "code",
   "execution_count": 39,
   "metadata": {},
   "outputs": [],
   "source": [
    "match.to_csv('output/match_noNull.csv', index=False)\n",
    "player.to_csv('output/players_noNull.csv', index=False)\n",
    "tournament.to_csv('output/tournament_noNull.csv', index=False)"
   ]
  },
  {
   "cell_type": "code",
   "execution_count": 40,
   "metadata": {},
   "outputs": [
    {
     "data": {
      "text/html": [
       "<div>\n",
       "<style scoped>\n",
       "    .dataframe tbody tr th:only-of-type {\n",
       "        vertical-align: middle;\n",
       "    }\n",
       "\n",
       "    .dataframe tbody tr th {\n",
       "        vertical-align: top;\n",
       "    }\n",
       "\n",
       "    .dataframe thead th {\n",
       "        text-align: right;\n",
       "    }\n",
       "</style>\n",
       "<table border=\"1\" class=\"dataframe\">\n",
       "  <thead>\n",
       "    <tr style=\"text-align: right;\">\n",
       "      <th></th>\n",
       "      <th>match_num</th>\n",
       "      <th>winner_id</th>\n",
       "      <th>loser_id</th>\n",
       "      <th>score</th>\n",
       "      <th>best_of</th>\n",
       "      <th>round</th>\n",
       "      <th>minutes</th>\n",
       "      <th>w_ace</th>\n",
       "      <th>w_df</th>\n",
       "      <th>w_svpt</th>\n",
       "      <th>...</th>\n",
       "      <th>l_1stWon</th>\n",
       "      <th>l_2ndWon</th>\n",
       "      <th>l_SvGms</th>\n",
       "      <th>l_bpSaved</th>\n",
       "      <th>l_bpFaced</th>\n",
       "      <th>winner_rank</th>\n",
       "      <th>winner_rank_points</th>\n",
       "      <th>loser_rank</th>\n",
       "      <th>loser_rank_points</th>\n",
       "      <th>tourney_pk</th>\n",
       "    </tr>\n",
       "  </thead>\n",
       "  <tbody>\n",
       "    <tr>\n",
       "      <th>0</th>\n",
       "      <td>247</td>\n",
       "      <td>105216</td>\n",
       "      <td>111505</td>\n",
       "      <td>6-2 6-4</td>\n",
       "      <td>3</td>\n",
       "      <td>Q1</td>\n",
       "      <td>65</td>\n",
       "      <td>0</td>\n",
       "      <td>2</td>\n",
       "      <td>44</td>\n",
       "      <td>...</td>\n",
       "      <td>17</td>\n",
       "      <td>14</td>\n",
       "      <td>9</td>\n",
       "      <td>4</td>\n",
       "      <td>8</td>\n",
       "      <td>129</td>\n",
       "      <td>429</td>\n",
       "      <td>177</td>\n",
       "      <td>285</td>\n",
       "      <td>2019-0429A201941014Stockholm</td>\n",
       "    </tr>\n",
       "    <tr>\n",
       "      <th>1</th>\n",
       "      <td>288</td>\n",
       "      <td>206124</td>\n",
       "      <td>201614</td>\n",
       "      <td>6-1 6-4</td>\n",
       "      <td>3</td>\n",
       "      <td>R16</td>\n",
       "      <td>69</td>\n",
       "      <td>1</td>\n",
       "      <td>1</td>\n",
       "      <td>50</td>\n",
       "      <td>...</td>\n",
       "      <td>19</td>\n",
       "      <td>3</td>\n",
       "      <td>8</td>\n",
       "      <td>2</td>\n",
       "      <td>7</td>\n",
       "      <td>136</td>\n",
       "      <td>488</td>\n",
       "      <td>50</td>\n",
       "      <td>1205</td>\n",
       "      <td>2020-2020I202030907Istanbul</td>\n",
       "    </tr>\n",
       "    <tr>\n",
       "      <th>3</th>\n",
       "      <td>285</td>\n",
       "      <td>105539</td>\n",
       "      <td>200366</td>\n",
       "      <td>6-2 6-3</td>\n",
       "      <td>3</td>\n",
       "      <td>R32</td>\n",
       "      <td>69</td>\n",
       "      <td>2</td>\n",
       "      <td>2</td>\n",
       "      <td>42</td>\n",
       "      <td>...</td>\n",
       "      <td>29</td>\n",
       "      <td>9</td>\n",
       "      <td>9</td>\n",
       "      <td>11</td>\n",
       "      <td>15</td>\n",
       "      <td>126</td>\n",
       "      <td>440</td>\n",
       "      <td>456</td>\n",
       "      <td>20</td>\n",
       "      <td>2019-3618C201930715Nur-Sultan CH</td>\n",
       "    </tr>\n",
       "    <tr>\n",
       "      <th>5</th>\n",
       "      <td>113</td>\n",
       "      <td>104731</td>\n",
       "      <td>125802</td>\n",
       "      <td>6-4 2-6 4-6 6-4 7-6(8)</td>\n",
       "      <td>5</td>\n",
       "      <td>R128</td>\n",
       "      <td>234</td>\n",
       "      <td>16</td>\n",
       "      <td>3</td>\n",
       "      <td>161</td>\n",
       "      <td>...</td>\n",
       "      <td>76</td>\n",
       "      <td>27</td>\n",
       "      <td>25</td>\n",
       "      <td>4</td>\n",
       "      <td>8</td>\n",
       "      <td>122</td>\n",
       "      <td>445</td>\n",
       "      <td>149</td>\n",
       "      <td>354</td>\n",
       "      <td>2020-580G202010120Australian Open</td>\n",
       "    </tr>\n",
       "    <tr>\n",
       "      <th>6</th>\n",
       "      <td>270</td>\n",
       "      <td>214149</td>\n",
       "      <td>203435</td>\n",
       "      <td>6-2 6-2</td>\n",
       "      <td>3</td>\n",
       "      <td>R32</td>\n",
       "      <td>64</td>\n",
       "      <td>4</td>\n",
       "      <td>3</td>\n",
       "      <td>40</td>\n",
       "      <td>...</td>\n",
       "      <td>19</td>\n",
       "      <td>7</td>\n",
       "      <td>8</td>\n",
       "      <td>3</td>\n",
       "      <td>8</td>\n",
       "      <td>54</td>\n",
       "      <td>1075</td>\n",
       "      <td>145</td>\n",
       "      <td>403</td>\n",
       "      <td>2019-1079I201930715Bucharest</td>\n",
       "    </tr>\n",
       "    <tr>\n",
       "      <th>...</th>\n",
       "      <td>...</td>\n",
       "      <td>...</td>\n",
       "      <td>...</td>\n",
       "      <td>...</td>\n",
       "      <td>...</td>\n",
       "      <td>...</td>\n",
       "      <td>...</td>\n",
       "      <td>...</td>\n",
       "      <td>...</td>\n",
       "      <td>...</td>\n",
       "      <td>...</td>\n",
       "      <td>...</td>\n",
       "      <td>...</td>\n",
       "      <td>...</td>\n",
       "      <td>...</td>\n",
       "      <td>...</td>\n",
       "      <td>...</td>\n",
       "      <td>...</td>\n",
       "      <td>...</td>\n",
       "      <td>...</td>\n",
       "      <td>...</td>\n",
       "    </tr>\n",
       "    <tr>\n",
       "      <th>185755</th>\n",
       "      <td>252</td>\n",
       "      <td>105943</td>\n",
       "      <td>106065</td>\n",
       "      <td>6-7(3) 7-6(5) 6-4</td>\n",
       "      <td>3</td>\n",
       "      <td>Q2</td>\n",
       "      <td>152</td>\n",
       "      <td>11</td>\n",
       "      <td>7</td>\n",
       "      <td>116</td>\n",
       "      <td>...</td>\n",
       "      <td>50</td>\n",
       "      <td>30</td>\n",
       "      <td>17</td>\n",
       "      <td>4</td>\n",
       "      <td>7</td>\n",
       "      <td>179</td>\n",
       "      <td>320</td>\n",
       "      <td>188</td>\n",
       "      <td>294</td>\n",
       "      <td>2017-7161A201710206Quito</td>\n",
       "    </tr>\n",
       "    <tr>\n",
       "      <th>185756</th>\n",
       "      <td>247</td>\n",
       "      <td>105271</td>\n",
       "      <td>105826</td>\n",
       "      <td>6-4 7-6(8)</td>\n",
       "      <td>3</td>\n",
       "      <td>Q2</td>\n",
       "      <td>98</td>\n",
       "      <td>1</td>\n",
       "      <td>0</td>\n",
       "      <td>67</td>\n",
       "      <td>...</td>\n",
       "      <td>31</td>\n",
       "      <td>24</td>\n",
       "      <td>11</td>\n",
       "      <td>5</td>\n",
       "      <td>6</td>\n",
       "      <td>370</td>\n",
       "      <td>119</td>\n",
       "      <td>715</td>\n",
       "      <td>28</td>\n",
       "      <td>2018-6724C201820409Mexico City CH</td>\n",
       "    </tr>\n",
       "    <tr>\n",
       "      <th>185758</th>\n",
       "      <td>252</td>\n",
       "      <td>200176</td>\n",
       "      <td>104907</td>\n",
       "      <td>0-6 6-2 6-4</td>\n",
       "      <td>3</td>\n",
       "      <td>Q3</td>\n",
       "      <td>132</td>\n",
       "      <td>6</td>\n",
       "      <td>5</td>\n",
       "      <td>92</td>\n",
       "      <td>...</td>\n",
       "      <td>25</td>\n",
       "      <td>15</td>\n",
       "      <td>12</td>\n",
       "      <td>3</td>\n",
       "      <td>7</td>\n",
       "      <td>583</td>\n",
       "      <td>50</td>\n",
       "      <td>516</td>\n",
       "      <td>65</td>\n",
       "      <td>2018-7746C201830806Jinan CH</td>\n",
       "    </tr>\n",
       "    <tr>\n",
       "      <th>185760</th>\n",
       "      <td>254</td>\n",
       "      <td>105487</td>\n",
       "      <td>105943</td>\n",
       "      <td>6-4 6-2</td>\n",
       "      <td>3</td>\n",
       "      <td>Q2</td>\n",
       "      <td>79</td>\n",
       "      <td>1</td>\n",
       "      <td>2</td>\n",
       "      <td>47</td>\n",
       "      <td>...</td>\n",
       "      <td>25</td>\n",
       "      <td>12</td>\n",
       "      <td>9</td>\n",
       "      <td>7</td>\n",
       "      <td>10</td>\n",
       "      <td>135</td>\n",
       "      <td>392</td>\n",
       "      <td>124</td>\n",
       "      <td>422</td>\n",
       "      <td>2020-9158A202010203Cordoba</td>\n",
       "    </tr>\n",
       "    <tr>\n",
       "      <th>185763</th>\n",
       "      <td>245</td>\n",
       "      <td>134770</td>\n",
       "      <td>103565</td>\n",
       "      <td>6-3 6-7(3) 7-6(3)</td>\n",
       "      <td>3</td>\n",
       "      <td>Q1</td>\n",
       "      <td>146</td>\n",
       "      <td>8</td>\n",
       "      <td>6</td>\n",
       "      <td>117</td>\n",
       "      <td>...</td>\n",
       "      <td>43</td>\n",
       "      <td>27</td>\n",
       "      <td>16</td>\n",
       "      <td>10</td>\n",
       "      <td>14</td>\n",
       "      <td>137</td>\n",
       "      <td>416</td>\n",
       "      <td>214</td>\n",
       "      <td>245</td>\n",
       "      <td>2018-0301A201810108Auckland</td>\n",
       "    </tr>\n",
       "  </tbody>\n",
       "</table>\n",
       "<p>81919 rows × 30 columns</p>\n",
       "</div>"
      ],
      "text/plain": [
       "        match_num  winner_id  loser_id                   score  best_of round  \\\n",
       "0             247     105216    111505                 6-2 6-4        3    Q1   \n",
       "1             288     206124    201614                 6-1 6-4        3   R16   \n",
       "3             285     105539    200366                 6-2 6-3        3   R32   \n",
       "5             113     104731    125802  6-4 2-6 4-6 6-4 7-6(8)        5  R128   \n",
       "6             270     214149    203435                 6-2 6-2        3   R32   \n",
       "...           ...        ...       ...                     ...      ...   ...   \n",
       "185755        252     105943    106065       6-7(3) 7-6(5) 6-4        3    Q2   \n",
       "185756        247     105271    105826              6-4 7-6(8)        3    Q2   \n",
       "185758        252     200176    104907             0-6 6-2 6-4        3    Q3   \n",
       "185760        254     105487    105943                 6-4 6-2        3    Q2   \n",
       "185763        245     134770    103565       6-3 6-7(3) 7-6(3)        3    Q1   \n",
       "\n",
       "        minutes  w_ace  w_df  w_svpt  ...  l_1stWon  l_2ndWon  l_SvGms  \\\n",
       "0            65      0     2      44  ...        17        14        9   \n",
       "1            69      1     1      50  ...        19         3        8   \n",
       "3            69      2     2      42  ...        29         9        9   \n",
       "5           234     16     3     161  ...        76        27       25   \n",
       "6            64      4     3      40  ...        19         7        8   \n",
       "...         ...    ...   ...     ...  ...       ...       ...      ...   \n",
       "185755      152     11     7     116  ...        50        30       17   \n",
       "185756       98      1     0      67  ...        31        24       11   \n",
       "185758      132      6     5      92  ...        25        15       12   \n",
       "185760       79      1     2      47  ...        25        12        9   \n",
       "185763      146      8     6     117  ...        43        27       16   \n",
       "\n",
       "        l_bpSaved  l_bpFaced  winner_rank  winner_rank_points  loser_rank  \\\n",
       "0               4          8          129                 429         177   \n",
       "1               2          7          136                 488          50   \n",
       "3              11         15          126                 440         456   \n",
       "5               4          8          122                 445         149   \n",
       "6               3          8           54                1075         145   \n",
       "...           ...        ...          ...                 ...         ...   \n",
       "185755          4          7          179                 320         188   \n",
       "185756          5          6          370                 119         715   \n",
       "185758          3          7          583                  50         516   \n",
       "185760          7         10          135                 392         124   \n",
       "185763         10         14          137                 416         214   \n",
       "\n",
       "        loser_rank_points                         tourney_pk  \n",
       "0                     285       2019-0429A201941014Stockholm  \n",
       "1                    1205        2020-2020I202030907Istanbul  \n",
       "3                      20   2019-3618C201930715Nur-Sultan CH  \n",
       "5                     354  2020-580G202010120Australian Open  \n",
       "6                     403       2019-1079I201930715Bucharest  \n",
       "...                   ...                                ...  \n",
       "185755                294           2017-7161A201710206Quito  \n",
       "185756                 28  2018-6724C201820409Mexico City CH  \n",
       "185758                 65        2018-7746C201830806Jinan CH  \n",
       "185760                422         2020-9158A202010203Cordoba  \n",
       "185763                245        2018-0301A201810108Auckland  \n",
       "\n",
       "[81919 rows x 30 columns]"
      ]
     },
     "execution_count": 40,
     "metadata": {},
     "output_type": "execute_result"
    }
   ],
   "source": [
    "match"
   ]
  },
  {
   "cell_type": "code",
   "execution_count": 41,
   "metadata": {},
   "outputs": [
    {
     "data": {
      "text/html": [
       "<div>\n",
       "<style scoped>\n",
       "    .dataframe tbody tr th:only-of-type {\n",
       "        vertical-align: middle;\n",
       "    }\n",
       "\n",
       "    .dataframe tbody tr th {\n",
       "        vertical-align: top;\n",
       "    }\n",
       "\n",
       "    .dataframe thead th {\n",
       "        text-align: right;\n",
       "    }\n",
       "</style>\n",
       "<table border=\"1\" class=\"dataframe\">\n",
       "  <thead>\n",
       "    <tr style=\"text-align: right;\">\n",
       "      <th></th>\n",
       "      <th>match_num</th>\n",
       "      <th>winner_id</th>\n",
       "      <th>tourney_pk</th>\n",
       "    </tr>\n",
       "  </thead>\n",
       "  <tbody>\n",
       "    <tr>\n",
       "      <th>0</th>\n",
       "      <td>247</td>\n",
       "      <td>105216</td>\n",
       "      <td>2019-0429A201941014Stockholm</td>\n",
       "    </tr>\n",
       "    <tr>\n",
       "      <th>1</th>\n",
       "      <td>288</td>\n",
       "      <td>206124</td>\n",
       "      <td>2020-2020I202030907Istanbul</td>\n",
       "    </tr>\n",
       "    <tr>\n",
       "      <th>3</th>\n",
       "      <td>285</td>\n",
       "      <td>105539</td>\n",
       "      <td>2019-3618C201930715Nur-Sultan CH</td>\n",
       "    </tr>\n",
       "    <tr>\n",
       "      <th>5</th>\n",
       "      <td>113</td>\n",
       "      <td>104731</td>\n",
       "      <td>2020-580G202010120Australian Open</td>\n",
       "    </tr>\n",
       "    <tr>\n",
       "      <th>6</th>\n",
       "      <td>270</td>\n",
       "      <td>214149</td>\n",
       "      <td>2019-1079I201930715Bucharest</td>\n",
       "    </tr>\n",
       "    <tr>\n",
       "      <th>...</th>\n",
       "      <td>...</td>\n",
       "      <td>...</td>\n",
       "      <td>...</td>\n",
       "    </tr>\n",
       "    <tr>\n",
       "      <th>185755</th>\n",
       "      <td>252</td>\n",
       "      <td>105943</td>\n",
       "      <td>2017-7161A201710206Quito</td>\n",
       "    </tr>\n",
       "    <tr>\n",
       "      <th>185756</th>\n",
       "      <td>247</td>\n",
       "      <td>105271</td>\n",
       "      <td>2018-6724C201820409Mexico City CH</td>\n",
       "    </tr>\n",
       "    <tr>\n",
       "      <th>185758</th>\n",
       "      <td>252</td>\n",
       "      <td>200176</td>\n",
       "      <td>2018-7746C201830806Jinan CH</td>\n",
       "    </tr>\n",
       "    <tr>\n",
       "      <th>185760</th>\n",
       "      <td>254</td>\n",
       "      <td>105487</td>\n",
       "      <td>2020-9158A202010203Cordoba</td>\n",
       "    </tr>\n",
       "    <tr>\n",
       "      <th>185763</th>\n",
       "      <td>245</td>\n",
       "      <td>134770</td>\n",
       "      <td>2018-0301A201810108Auckland</td>\n",
       "    </tr>\n",
       "  </tbody>\n",
       "</table>\n",
       "<p>81918 rows × 3 columns</p>\n",
       "</div>"
      ],
      "text/plain": [
       "        match_num  winner_id                         tourney_pk\n",
       "0             247     105216       2019-0429A201941014Stockholm\n",
       "1             288     206124        2020-2020I202030907Istanbul\n",
       "3             285     105539   2019-3618C201930715Nur-Sultan CH\n",
       "5             113     104731  2020-580G202010120Australian Open\n",
       "6             270     214149       2019-1079I201930715Bucharest\n",
       "...           ...        ...                                ...\n",
       "185755        252     105943           2017-7161A201710206Quito\n",
       "185756        247     105271  2018-6724C201820409Mexico City CH\n",
       "185758        252     200176        2018-7746C201830806Jinan CH\n",
       "185760        254     105487         2020-9158A202010203Cordoba\n",
       "185763        245     134770        2018-0301A201810108Auckland\n",
       "\n",
       "[81918 rows x 3 columns]"
      ]
     },
     "execution_count": 41,
     "metadata": {},
     "output_type": "execute_result"
    }
   ],
   "source": [
    "match[['match_num','winner_id','tourney_pk']].drop_duplicates()"
   ]
  },
  {
   "cell_type": "code",
   "execution_count": null,
   "metadata": {},
   "outputs": [],
   "source": []
  },
  {
   "cell_type": "code",
   "execution_count": null,
   "metadata": {},
   "outputs": [],
   "source": []
  },
  {
   "cell_type": "code",
   "execution_count": null,
   "metadata": {},
   "outputs": [],
   "source": []
  },
  {
   "cell_type": "code",
   "execution_count": null,
   "metadata": {},
   "outputs": [],
   "source": []
  },
  {
   "cell_type": "code",
   "execution_count": null,
   "metadata": {},
   "outputs": [],
   "source": []
  },
  {
   "cell_type": "code",
   "execution_count": null,
   "metadata": {},
   "outputs": [],
   "source": []
  },
  {
   "cell_type": "code",
   "execution_count": null,
   "metadata": {},
   "outputs": [],
   "source": []
  },
  {
   "cell_type": "code",
   "execution_count": null,
   "metadata": {},
   "outputs": [],
   "source": []
  },
  {
   "cell_type": "code",
   "execution_count": null,
   "metadata": {},
   "outputs": [],
   "source": []
  }
 ],
 "metadata": {
  "kernelspec": {
   "display_name": "Python 3 (ipykernel)",
   "language": "python",
   "name": "python3"
  },
  "language_info": {
   "codemirror_mode": {
    "name": "ipython",
    "version": 3
   },
   "file_extension": ".py",
   "mimetype": "text/x-python",
   "name": "python",
   "nbconvert_exporter": "python",
   "pygments_lexer": "ipython3",
   "version": "3.7.6"
  },
  "toc": {
   "base_numbering": 1,
   "nav_menu": {},
   "number_sections": true,
   "sideBar": true,
   "skip_h1_title": false,
   "title_cell": "Table of Contents",
   "title_sidebar": "Contents",
   "toc_cell": false,
   "toc_position": {},
   "toc_section_display": true,
   "toc_window_display": false
  },
  "varInspector": {
   "cols": {
    "lenName": 16,
    "lenType": 16,
    "lenVar": 40
   },
   "kernels_config": {
    "python": {
     "delete_cmd_postfix": "",
     "delete_cmd_prefix": "del ",
     "library": "var_list.py",
     "varRefreshCmd": "print(var_dic_list())"
    },
    "r": {
     "delete_cmd_postfix": ") ",
     "delete_cmd_prefix": "rm(",
     "library": "var_list.r",
     "varRefreshCmd": "cat(var_dic_list()) "
    }
   },
   "types_to_exclude": [
    "module",
    "function",
    "builtin_function_or_method",
    "instance",
    "_Feature"
   ],
   "window_display": false
  }
 },
 "nbformat": 4,
 "nbformat_minor": 2
}
